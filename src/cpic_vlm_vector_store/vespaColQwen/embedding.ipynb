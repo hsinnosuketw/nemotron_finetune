{
 "cells": [
  {
   "cell_type": "markdown",
   "metadata": {},
   "source": [
    "## 環境建置\n",
    "以下%%bash是[GNU Bash or simply Bash is a Unix shell and command language.](https://stackoverflow.com/questions/61910926/what-does-the-bash-command-do-in-python)。可以在python code中，跑linux語言。也可以使用os這個套件。\n",
    "\n",
    "```\n",
    "%%bash\n",
    "pip install colpali-engine # from PyPi\n",
    "pip install git+https://github.com/illuin-tech/colpali # from source\n",
    "pip install ipykernel\n",
    "pip install torchvision\n",
    "sudo apt-get update && sudo apt-get install poppler-utils -y\n",
    "pip install colpali-engine==0.3.1 pdf2image pypdf pyvespa vespacli requests numpy tqdm\n",
    "export HF_HOME=/home/jovyan/datasets/soc-20250518223404/\n",
    "echo $HF_HOME\n",
    "```"
   ]
  },
  {
   "cell_type": "markdown",
   "metadata": {},
   "source": [
    "## 引入相依套件(Import dependencies)"
   ]
  },
  {
   "cell_type": "code",
   "execution_count": 1,
   "metadata": {},
   "outputs": [],
   "source": [
    "import torch\n",
    "from torch.utils.data import DataLoader\n",
    "from tqdm import tqdm\n",
    "from io import BytesIO\n",
    "from transformers.utils.import_utils import is_flash_attn_2_available\n",
    "# import colpali_engine\n",
    "from colpali_engine.models import ColQwen2_5\n",
    "from colpali_engine.models import ColQwen2_5_Processor"
   ]
  },
  {
   "cell_type": "markdown",
   "metadata": {},
   "source": [
    "# 引入(Import)VLM-ColQwen2.5"
   ]
  },
  {
   "cell_type": "code",
   "execution_count": 2,
   "metadata": {},
   "outputs": [
    {
     "data": {
      "application/vnd.jupyter.widget-view+json": {
       "model_id": "196a72c5e7894c0698563cff53567223",
       "version_major": 2,
       "version_minor": 0
      },
      "text/plain": [
       "Fetching 2 files:   0%|          | 0/2 [00:00<?, ?it/s]"
      ]
     },
     "metadata": {},
     "output_type": "display_data"
    },
    {
     "data": {
      "application/vnd.jupyter.widget-view+json": {
       "model_id": "9a16b65c47344fd79a90753bfd63f47a",
       "version_major": 2,
       "version_minor": 0
      },
      "text/plain": [
       "Loading checkpoint shards:   0%|          | 0/2 [00:00<?, ?it/s]"
      ]
     },
     "metadata": {},
     "output_type": "display_data"
    },
    {
     "name": "stderr",
     "output_type": "stream",
     "text": [
      "Using a slow image processor as `use_fast` is unset and a slow processor was saved with this model. `use_fast=True` will be the default behavior in v4.52, even if the model was saved with a slow processor. This will result in minor differences in outputs. You'll still be able to use a slow processor with `use_fast=False`.\n"
     ]
    }
   ],
   "source": [
    "model_name = \"vidore/colqwen2.5-v0.2\"\n",
    "\n",
    "model = ColQwen2_5.from_pretrained(\n",
    "        \"vidore/colqwen2.5-v0.2\",\n",
    "        cache_dir=\"/home/jovyan/soc-20250527135343/\",\n",
    "        torch_dtype=torch.bfloat16,\n",
    "        device_map=\"cuda:0\",  # or \"mps\" if on Apple Silicon\n",
    "        attn_implementation=\"flash_attention_2\" if is_flash_attn_2_available() else None,\n",
    "    ).eval()\n",
    "processor = ColQwen2_5_Processor.from_pretrained(\"vidore/colqwen2.5-v0.2\", cache_dir=\"/home/jovyan/soc-20250527135343/\")"
   ]
  },
  {
   "cell_type": "markdown",
   "metadata": {},
   "source": [
    "# 檔案整理的Helper Function\n",
    "- `download_pdf`：輸入網址，回傳下載PDF\n",
    "- `get_pdf_images`：轉換下載的PDF，存成圖檔"
   ]
  },
  {
   "cell_type": "code",
   "execution_count": 3,
   "metadata": {},
   "outputs": [],
   "source": [
    "import requests\n",
    "from pdf2image import convert_from_path\n",
    "from pypdf import PdfReader\n",
    "\n",
    "# 下載PDF\n",
    "def download_pdf(url):\n",
    "    response = requests.get(url)\n",
    "    if response.status_code == 200:\n",
    "        return BytesIO(response.content)\n",
    "    else:\n",
    "        raise Exception(f\"Failed to download PDF: Status code {response.status_code}\")\n",
    "\n",
    "# PDF_to_images\n",
    "def get_pdf_images(pdf_url):\n",
    "    # Download the PDF\n",
    "    pdf_file = download_pdf(pdf_url)\n",
    "    # Save the PDF temporarily to disk (pdf2image requires a file path)\n",
    "    temp_file = \"temp.pdf\"\n",
    "    with open(temp_file, \"wb\") as f:\n",
    "        f.write(pdf_file.read())\n",
    "    reader = PdfReader(temp_file)\n",
    "    page_texts = []\n",
    "    for page_number in range(len(reader.pages)):\n",
    "        page = reader.pages[page_number]\n",
    "        text = page.extract_text()\n",
    "        page_texts.append(text)\n",
    "    images = convert_from_path(temp_file)\n",
    "    assert len(images) == len(page_texts)\n",
    "    return (images, page_texts)\n",
    "\n",
    "import os \n",
    "from pdf2image import convert_from_path\n",
    "from pypdf import PdfReader\n",
    "\n",
    "path = \"./Guidelines\"\n",
    "def get_cpic_pdf_images_texts(path):\n",
    "    CPIC_pdf = []\n",
    "    pdf_files = []\n",
    "    # 讀取所有pdf文件的路徑，存於pdf_files\n",
    "    for i, file in enumerate(os.listdir(path)):\n",
    "        if file.endswith(\".pdf\"):\n",
    "            pdf_path = os.path.join(path, file)\n",
    "            pdf_files.append(pdf_path)\n",
    "            CPIC_pdf.append({\"path\": pdf_path, \"name\": file})\n",
    "    \n",
    "    # 讀取所有pdf文件的內容，存於CPIC_pdf\n",
    "    for i,file in enumerate(pdf_files):\n",
    "        reader = PdfReader(file)\n",
    "        page_texts = []\n",
    "        for page_number in range(len(reader.pages)):\n",
    "            page = reader.pages[page_number]\n",
    "            text = page.extract_text()\n",
    "            page_texts.append(text)\n",
    "        images = convert_from_path(file)\n",
    "        CPIC_pdf[i][\"images\"] = images\n",
    "        CPIC_pdf[i][\"texts\"] = page_texts\n",
    "    assert len(images) == len(page_texts)\n",
    "    return CPIC_pdf\n",
    "\n",
    "from IPython.display import display\n",
    "\n",
    "\n",
    "def resize_image(image, max_height=800):\n",
    "    width, height = image.size\n",
    "    if height > max_height:\n",
    "        ratio = max_height / height\n",
    "        new_width = int(width * ratio)\n",
    "        new_height = int(height * ratio)\n",
    "        return image.resize((new_width, new_height))\n",
    "    return image\n",
    "\n",
    "# display(resize_image(CPIC_pdf[42][\"images\"][0]))\n",
    "\n",
    "import base64\n",
    "\n",
    "\n",
    "def get_base64_image(image):\n",
    "    buffered = BytesIO()\n",
    "    image.save(buffered, format=\"JPEG\")\n",
    "    return str(base64.b64encode(buffered.getvalue()), \"utf-8\")"
   ]
  },
  {
   "cell_type": "markdown",
   "metadata": {},
   "source": [
    "## 使用CPIC Guidelines的PDF檔，轉換圖片作為資料集"
   ]
  },
  {
   "cell_type": "code",
   "execution_count": 4,
   "metadata": {},
   "outputs": [],
   "source": [
    "CPIC_pdf = get_cpic_pdf_images_texts(path)"
   ]
  },
  {
   "cell_type": "markdown",
   "metadata": {},
   "source": [
    "## 產生嵌入向量(Generate Embedding)"
   ]
  },
  {
   "cell_type": "code",
   "execution_count": 5,
   "metadata": {},
   "outputs": [
    {
     "data": {
      "text/plain": [
       "28"
      ]
     },
     "execution_count": 5,
     "metadata": {},
     "output_type": "execute_result"
    }
   ],
   "source": [
    "len(CPIC_pdf)"
   ]
  },
  {
   "cell_type": "code",
   "execution_count": 19,
   "metadata": {},
   "outputs": [
    {
     "name": "stderr",
     "output_type": "stream",
     "text": [
      "100%|██████████| 4/4 [00:03<00:00,  1.30it/s]\n",
      "100%|██████████| 3/3 [00:01<00:00,  1.58it/s]\n",
      "100%|██████████| 3/3 [00:01<00:00,  1.63it/s]\n",
      "100%|██████████| 5/5 [00:02<00:00,  1.86it/s]\n",
      "100%|██████████| 3/3 [00:01<00:00,  1.56it/s]\n",
      "100%|██████████| 4/4 [00:02<00:00,  1.61it/s]\n",
      "100%|██████████| 4/4 [00:02<00:00,  1.84it/s]\n",
      "100%|██████████| 6/6 [00:03<00:00,  1.80it/s]\n",
      "100%|██████████| 3/3 [00:01<00:00,  1.63it/s]\n",
      "100%|██████████| 4/4 [00:02<00:00,  1.90it/s]\n",
      "100%|██████████| 5/5 [00:02<00:00,  1.82it/s]\n",
      "100%|██████████| 3/3 [00:01<00:00,  2.00it/s]\n",
      "100%|██████████| 5/5 [00:03<00:00,  1.64it/s]\n",
      " 75%|███████▌  | 6/8 [00:03<00:01,  1.65it/s]"
     ]
    }
   ],
   "source": [
    "for pdf in CPIC_pdf:\n",
    "    page_embeddings = []\n",
    "    dataloader = DataLoader(\n",
    "        pdf[\"images\"],\n",
    "        batch_size=2,\n",
    "        shuffle=False,\n",
    "        collate_fn=lambda x: processor.process_images(x),\n",
    "    )\n",
    "\n",
    "    for batch_doc in tqdm(dataloader):\n",
    "        with torch.no_grad():\n",
    "            batch_doc = {k: v.to(model.device) for k, v in batch_doc.items()}\n",
    "            embeddings_doc = model(**batch_doc)\n",
    "            page_embeddings.extend(list(torch.unbind(embeddings_doc.to(\"cpu\"))))\n",
    "    pdf[\"embeddings\"] = page_embeddings"
   ]
  },
  {
   "cell_type": "code",
   "execution_count": 20,
   "metadata": {},
   "outputs": [
    {
     "data": {
      "text/plain": [
       "dict_keys(['path', 'name', 'images', 'texts', 'embeddings'])"
      ]
     },
     "execution_count": 20,
     "metadata": {},
     "output_type": "execute_result"
    }
   ],
   "source": [
    "CPIC_pdf[len(CPIC_pdf)-1].keys()"
   ]
  },
  {
   "cell_type": "code",
   "execution_count": 22,
   "metadata": {},
   "outputs": [],
   "source": [
    "import numpy as np\n",
    "\n",
    "vespa_feed = []\n",
    "for pdf in CPIC_pdf:\n",
    "    path = pdf[\"path\"]\n",
    "    name = pdf[\"name\"]\n",
    "    for page_number, (page_text, embedding, image) in enumerate(\n",
    "        zip(pdf[\"texts\"], pdf[\"embeddings\"], pdf[\"images\"])\n",
    "    ):\n",
    "        base_64_image = get_base64_image(resize_image(image, 640))\n",
    "        embedding_dict = dict()\n",
    "        for idx, patch_embedding in enumerate(embedding):\n",
    "            binary_vector = (\n",
    "                np.packbits(np.where(patch_embedding > 0, 1, 0))\n",
    "                .astype(np.int8)\n",
    "                .tobytes()\n",
    "                .hex()\n",
    "            )\n",
    "            embedding_dict[idx] = binary_vector\n",
    "        page = {\n",
    "            \"id\": hash(name + \" \"+ str(page_number)),\n",
    "            \"name\": name,\n",
    "            \"path\": path,\n",
    "            \"page_number\": page_number,\n",
    "            \"image\": base_64_image,\n",
    "            \"text\": page_text,\n",
    "            \"embedding\": embedding_dict,\n",
    "        }\n",
    "        vespa_feed.append(page)"
   ]
  },
  {
   "cell_type": "code",
   "execution_count": null,
   "metadata": {},
   "outputs": [],
   "source": [
    "vespa_feed[0]"
   ]
  },
  {
   "cell_type": "code",
   "execution_count": 24,
   "metadata": {},
   "outputs": [],
   "source": [
    "from vespa.package import Schema, Document, Field, FieldSet, HNSW\n",
    "\n",
    "colpali_schema = Schema(\n",
    "    name=\"pdf_page\",\n",
    "    document=Document(\n",
    "        fields=[\n",
    "            Field(\n",
    "                name=\"id\", type=\"string\", indexing=[\"summary\", \"index\"], match=[\"word\"]\n",
    "            ),\n",
    "            Field(name=\"name\", type=\"string\", indexing=[\"summary\", \"index\"]),\n",
    "            Field(\n",
    "                name=\"path\",\n",
    "                type=\"string\",\n",
    "                indexing=[\"summary\", \"index\"],\n",
    "                match=[\"text\"],\n",
    "                index=\"enable-bm25\",\n",
    "            ),\n",
    "            Field(name=\"page_number\", type=\"int\", indexing=[\"summary\", \"attribute\"]),\n",
    "            Field(name=\"image\", type=\"raw\", indexing=[\"summary\"]),\n",
    "            Field(\n",
    "                name=\"text\",\n",
    "                type=\"string\",\n",
    "                indexing=[\"index\"],\n",
    "                match=[\"text\"],\n",
    "                index=\"enable-bm25\",\n",
    "            ),\n",
    "            Field(\n",
    "                name=\"embedding\",\n",
    "                type=\"tensor<int8>(patch{}, v[16])\",\n",
    "                indexing=[\n",
    "                    \"attribute\",\n",
    "                    \"index\",\n",
    "                ],  # adds HNSW index for candidate retrieval.\n",
    "                ann=HNSW(\n",
    "                    distance_metric=\"hamming\",\n",
    "                    max_links_per_node=8,\n",
    "                    neighbors_to_explore_at_insert=100,\n",
    "                ),\n",
    "            ),\n",
    "        ]\n",
    "    ),\n",
    "    fieldsets=[FieldSet(name=\"default\", fields=[\"name\", \"text\"])],\n",
    ")"
   ]
  },
  {
   "cell_type": "code",
   "execution_count": 25,
   "metadata": {},
   "outputs": [],
   "source": [
    "from vespa.package import ApplicationPackage\n",
    "\n",
    "vespa_app_name = \"cpicguidelinevrag\"\n",
    "vespa_application_package = ApplicationPackage(\n",
    "    name=vespa_app_name, schema=[colpali_schema]\n",
    ")"
   ]
  },
  {
   "cell_type": "code",
   "execution_count": 26,
   "metadata": {},
   "outputs": [],
   "source": [
    "from vespa.package import RankProfile, Function, FirstPhaseRanking, SecondPhaseRanking\n",
    "\n",
    "colpali_profile = RankProfile(\n",
    "    name=\"default\",\n",
    "    inputs=[(\"query(qt)\", \"tensor(querytoken{}, v[128])\")],\n",
    "    functions=[\n",
    "        Function(\n",
    "            name=\"max_sim\",\n",
    "            expression=\"\"\"\n",
    "                sum(\n",
    "                    reduce(\n",
    "                        sum(\n",
    "                            query(qt) * unpack_bits(attribute(embedding)) , v\n",
    "                        ),\n",
    "                        max, patch\n",
    "                    ),\n",
    "                    querytoken\n",
    "                )\n",
    "            \"\"\",\n",
    "        ),\n",
    "        Function(name=\"bm25_score\", expression=\"bm25(name) + bm25(text)\"),\n",
    "    ],\n",
    "    first_phase=FirstPhaseRanking(expression=\"bm25_score\"),\n",
    "    second_phase=SecondPhaseRanking(expression=\"max_sim\", rerank_count=100),\n",
    ")\n",
    "colpali_schema.add_rank_profile(colpali_profile)"
   ]
  },
  {
   "cell_type": "code",
   "execution_count": 27,
   "metadata": {},
   "outputs": [
    {
     "name": "stdout",
     "output_type": "stream",
     "text": [
      "Setting application...\n",
      "Running: vespa config set application hsinnosukejp.cpicguidelinevrag.default\n",
      "Setting target cloud...\n",
      "Running: vespa config set target cloud\n",
      "\n",
      "No api-key found for control plane access. Using access token.\n",
      "Checking for access token in auth.json...\n",
      "Access token expired. Please re-authenticate.\n",
      "Your Device Confirmation code is: PJKP-XHKD\n",
      "Automatically open confirmation page in your default browser? [Y/n] \n",
      "Opened link in your browser: https://login.console.vespa-cloud.com/activate?user_code=PJKP-XHKD\n",
      "Waiting for login to complete in browser ... done;1m⣻\u001b[0;22m\n",
      "\u001b[33mWarning:\u001b[0m Could not store the refresh token locally. You may need to login again once your access token expires\n",
      "\u001b[32mSuccess:\u001b[0m Logged in\n",
      " auth.json created at /home/jovyan/.vespa/auth.json\n",
      "Successfully obtained access token for control plane access.\n"
     ]
    }
   ],
   "source": [
    "from vespa.deployment import VespaCloud\n",
    "import os\n",
    "\n",
    "os.environ[\"TOKENIZERS_PARALLELISM\"] = \"false\"\n",
    "\n",
    "# Replace with your tenant name from the Vespa Cloud Console\n",
    "tenant_name = \"hsinnosukejp\"\n",
    "\n",
    "# key = os.getenv(\"VESPA_TEAM_API_KEY\", None)\n",
    "# if key is not None:\n",
    "#     key = key.replace(r\"\\n\", \"\\n\")  # To parse key correctly\n",
    "# print(key)\n",
    "\n",
    "vespa_cloud = VespaCloud(\n",
    "    tenant=tenant_name,\n",
    "    application=vespa_app_name,\n",
    "    # key_content=key,  # Key is only used for CI/CD testing of this notebook. Can be removed if logging in interactively\n",
    "    application_package=vespa_application_package,\n",
    ")"
   ]
  },
  {
   "cell_type": "code",
   "execution_count": 21,
   "metadata": {},
   "outputs": [
    {
     "data": {
      "text/plain": [
       "['__class__',\n",
       " '__delattr__',\n",
       " '__dict__',\n",
       " '__dir__',\n",
       " '__doc__',\n",
       " '__enter__',\n",
       " '__eq__',\n",
       " '__exit__',\n",
       " '__firstlineno__',\n",
       " '__format__',\n",
       " '__ge__',\n",
       " '__getattribute__',\n",
       " '__getstate__',\n",
       " '__gt__',\n",
       " '__hash__',\n",
       " '__init__',\n",
       " '__init_subclass__',\n",
       " '__le__',\n",
       " '__lt__',\n",
       " '__module__',\n",
       " '__ne__',\n",
       " '__new__',\n",
       " '__reduce__',\n",
       " '__reduce_ex__',\n",
       " '__repr__',\n",
       " '__setattr__',\n",
       " '__sizeof__',\n",
       " '__static_attributes__',\n",
       " '__str__',\n",
       " '__subclasshook__',\n",
       " '__weakref__',\n",
       " '_application_root_has_tests',\n",
       " '_build_no',\n",
       " '_check_vespacli_available',\n",
       " '_follow_deployment',\n",
       " '_generate_cert_vespacli',\n",
       " '_get_auth_headers',\n",
       " '_get_deployment_status',\n",
       " '_get_last_deployable',\n",
       " '_handle_response',\n",
       " '_load_certificate_pair',\n",
       " '_print_log_entry',\n",
       " '_read_private_key',\n",
       " '_request',\n",
       " '_request_with_access_token',\n",
       " '_request_with_api_key',\n",
       " '_set_application',\n",
       " '_set_target_cloud',\n",
       " '_start_deployment',\n",
       " '_start_prod_deployment',\n",
       " '_submitted_timestamp',\n",
       " '_to_application_zip',\n",
       " '_try_get_access_token',\n",
       " '_vespa_auth_cert',\n",
       " '_vespa_auth_login',\n",
       " 'api_key',\n",
       " 'api_public_key_bytes',\n",
       " 'application',\n",
       " 'application_package',\n",
       " 'application_root',\n",
       " 'auth_client_token_id',\n",
       " 'auth_file_path',\n",
       " 'base_headers',\n",
       " 'base_url',\n",
       " 'build_no',\n",
       " 'check_production_build_status',\n",
       " 'cluster',\n",
       " 'control_plane_access_token',\n",
       " 'control_plane_auth_method',\n",
       " 'data_cert_path',\n",
       " 'data_certificate',\n",
       " 'data_key',\n",
       " 'data_key_path',\n",
       " 'default_timeout',\n",
       " 'delete',\n",
       " 'deploy',\n",
       " 'deploy_from_disk',\n",
       " 'deploy_to_prod',\n",
       " 'get_all_endpoints',\n",
       " 'get_application',\n",
       " 'get_connection_response_with_retry',\n",
       " 'get_dev_region',\n",
       " 'get_endpoint',\n",
       " 'get_endpoint_auth_method',\n",
       " 'get_mtls_endpoint',\n",
       " 'get_prod_region',\n",
       " 'get_prod_regions',\n",
       " 'get_token_endpoint',\n",
       " 'httpx_limits',\n",
       " 'instance',\n",
       " 'output',\n",
       " 'pyvespa_version',\n",
       " 'read_app_package_from_disk',\n",
       " 'submitted_timestamp',\n",
       " 'tenant',\n",
       " 'wait_for_prod_deployment']"
      ]
     },
     "execution_count": 21,
     "metadata": {},
     "output_type": "execute_result"
    }
   ],
   "source": [
    "dir(vespa_cloud)"
   ]
  },
  {
   "cell_type": "code",
   "execution_count": 28,
   "metadata": {},
   "outputs": [
    {
     "name": "stdout",
     "output_type": "stream",
     "text": [
      "Deployment started in run 2 of dev-aws-us-east-1c for hsinnosukejp.cpicguidelinevrag. This may take a few minutes the first time.\n",
      "INFO    [08:49:51]  Deploying platform version 8.530.11 and application dev build 2 for dev-aws-us-east-1c of default ...\n",
      "INFO    [08:49:51]  Using CA signed certificate version 1\n",
      "INFO    [08:49:51]  Using 1 nodes in container cluster 'cpicguidelinevrag_container'\n",
      "INFO    [08:49:54]  Session 33 for tenant 'hsinnosukejp' prepared, but activation failed: 1/2 application hosts and 2/2 admin hosts for hsinnosukejp.cpicguidelinevrag have completed provisioning and bootstrapping, still waiting for h119506.dev.us-east-1c.aws.vespa-cloud.net\n",
      "INFO    [08:50:00]  Deploying platform version 8.530.11 and application dev build 2 for dev-aws-us-east-1c of default ...\n",
      "INFO    [08:50:00]  1/2 application hosts and 2/2 admin hosts for hsinnosukejp.cpicguidelinevrag have completed provisioning and bootstrapping, still waiting for h119506.dev.us-east-1c.aws.vespa-cloud.net\n",
      "INFO    [08:50:08]  Deploying platform version 8.530.11 and application dev build 2 for dev-aws-us-east-1c of default ...\n",
      "INFO    [08:50:08]  1/2 application hosts and 2/2 admin hosts for hsinnosukejp.cpicguidelinevrag have completed provisioning and bootstrapping, still waiting for h119506.dev.us-east-1c.aws.vespa-cloud.net\n",
      "INFO    [08:50:19]  Deploying platform version 8.530.11 and application dev build 2 for dev-aws-us-east-1c of default ...\n",
      "INFO    [08:50:19]  1/2 application hosts and 2/2 admin hosts for hsinnosukejp.cpicguidelinevrag have completed provisioning and bootstrapping, still waiting for h119506.dev.us-east-1c.aws.vespa-cloud.net\n",
      "INFO    [08:50:32]  Deploying platform version 8.530.11 and application dev build 2 for dev-aws-us-east-1c of default ...\n",
      "INFO    [08:50:33]  Session 33 for hsinnosukejp.cpicguidelinevrag.default activated\n",
      "INFO    [08:50:53]  ######## Details for all nodes ########\n",
      "INFO    [08:50:58]  h119160g.dev.us-east-1c.aws.vespa-cloud.net: expected to be UP\n",
      "INFO    [08:50:58]  --- platform vespa/cloud-tenant-rhel8:8.530.11\n",
      "INFO    [08:50:58]  --- container-clustercontroller on port 19050 has not started \n",
      "INFO    [08:50:58]  --- metricsproxy-container on port 19092 has not started \n",
      "INFO    [08:50:58]  h119049b.dev.us-east-1c.aws.vespa-cloud.net: expected to be UP\n",
      "INFO    [08:50:58]  --- platform vespa/cloud-tenant-rhel8:8.530.11\n",
      "INFO    [08:50:58]  --- storagenode on port 19102 has not started \n",
      "INFO    [08:50:58]  --- searchnode on port 19107 has not started \n",
      "INFO    [08:50:58]  --- distributor on port 19111 has not started \n",
      "INFO    [08:50:58]  --- metricsproxy-container on port 19092 has not started \n",
      "INFO    [08:50:58]  h119506a.dev.us-east-1c.aws.vespa-cloud.net: expected to be UP\n",
      "INFO    [08:50:58]  --- platform vespa/cloud-tenant-rhel8:8.530.11\n",
      "INFO    [08:50:58]  --- container on port 4080 has not started \n",
      "INFO    [08:50:58]  --- metricsproxy-container on port 19092 has not started \n",
      "INFO    [08:50:58]  h116960g.dev.us-east-1c.aws.vespa-cloud.net: expected to be UP\n",
      "INFO    [08:50:58]  --- platform vespa/cloud-tenant-rhel8:8.530.11\n",
      "INFO    [08:50:58]  --- logserver-container on port 4080 has not started \n",
      "INFO    [08:50:58]  --- metricsproxy-container on port 19092 has not started \n",
      "INFO    [08:51:32]  Found endpoints:\n",
      "INFO    [08:51:32]  - dev.aws-us-east-1c\n",
      "INFO    [08:51:32]   |-- https://aba83f0e.ddd3b206.z.vespa-app.cloud/ (cluster 'cpicguidelinevrag_container')\n",
      "INFO    [08:51:32]  Deployment complete!\n",
      "Only region: aws-us-east-1c available in dev environment.\n",
      "Found mtls endpoint for cpicguidelinevrag_container\n",
      "URL: https://aba83f0e.ddd3b206.z.vespa-app.cloud/\n",
      "Application is up!\n"
     ]
    }
   ],
   "source": [
    "from vespa.application import Vespa\n",
    "\n",
    "app: Vespa = vespa_cloud.deploy()"
   ]
  },
  {
   "cell_type": "code",
   "execution_count": 29,
   "metadata": {},
   "outputs": [
    {
     "name": "stdout",
     "output_type": "stream",
     "text": [
      "Number of PDF pages: 293\n"
     ]
    }
   ],
   "source": [
    "print(\"Number of PDF pages:\", len(vespa_feed))"
   ]
  },
  {
   "cell_type": "code",
   "execution_count": 40,
   "metadata": {},
   "outputs": [
    {
     "name": "stderr",
     "output_type": "stream",
     "text": [
      "  0%|          | 0/293 [00:00<?, ?it/s]"
     ]
    },
    {
     "name": "stderr",
     "output_type": "stream",
     "text": [
      "100%|██████████| 293/293 [01:42<00:00,  2.86it/s]\n"
     ]
    }
   ],
   "source": [
    "from vespa.io import VespaResponse\n",
    "\n",
    "async with app.asyncio(connections=1, timeout=180) as session:\n",
    "    for page in tqdm(vespa_feed):\n",
    "        response: VespaResponse = await session.feed_data_point(\n",
    "            data_id=page[\"id\"], fields=page, schema=\"pdf_page\"\n",
    "        )\n",
    "        if not response.is_successful():\n",
    "            print(response.json())"
   ]
  },
  {
   "cell_type": "code",
   "execution_count": 7,
   "metadata": {},
   "outputs": [],
   "source": [
    "question_num = [\n",
    "    \"Q3\",\n",
    "    \"Q4\",\n",
    "    \"Q7\",\n",
    "    \"Q8\",\n",
    "    \"Q11\",\n",
    "    \"Q12\",\n",
    "    \"Q15\",\n",
    "    \"Q16\",\n",
    "    \"Q19\",\n",
    "    \"Q20\"\n",
    "]\n",
    "# Raw Questions\n",
    "queries = [\n",
    "    #Q3, Q4, Q7, Q8, Q11, Q12, Q15, Q16, Q19, Q20\n",
    "    \"A 55-year-old male patient of Taiwanese descent with a history of gout (requiring urate-lowering therapy) undergoes kidney transplantation and is initiated on azathioprine for immunosuppression. Pre-emptive genotyping reveals he carries both the HLA-B*5801 allele (increasing risk for allopurinol-induced SCARs) and is heterozygous for a NUDT15 variant (e.g., c.415C>T, conferring intermediate thiopurine methyltransferase activity). Analyze the complex management challenges: a) the significantly increased risk of potentially fatal azathioprine-induced myelosuppression due to the NUDT15 status, requiring dose reduction, and b) the contraindication of using first-line allopurinol for his gout due to the HLA-B*5801 status, necessitating alternative gout management strategies (like febuxostat, considering its own warnings and potential interaction with azathioprine metabolism). Discuss the sequential decision-making and monitoring required.\",\n",
    "    \"Consider a patient presenting with acute coronary syndrome (ACS) requiring percutaneous coronary intervention (PCI) and subsequent dual antiplatelet therapy (DAPT) plus high-intensity statin treatment. Genotyping indicates the patient is a CYP2C19 intermediate metabolizer (e.g., *1/*2 genotype, potentially reducing clopidogrel activation) and also carries the SLCO1B1 c.521T>C variant (associated with increased risk of simvastatin-induced myopathy). Critically evaluate the choices for both the P2Y12 inhibitor component of DAPT (clopidogrel vs. ticagrelor/prasugrel) and the high-intensity statin (simvastatin vs. atorvastatin/rosuvastatin), explicitly considering how the combination of these two genetic variants influences the overall risk-benefit assessment for preventing both ischemic events (stent thrombosis) and adverse drug reactions (myopathy).\",\n",
    "    \"A patient diagnosed with major depressive disorder and comorbid neuropathic pain requires pharmacotherapy. They are identified as a CYP2D6 poor metabolizer and a CYP2C19 rapid metabolizer. Analyze the implications of this combined genotype profile when considering treatment options such as: a) initiating venlafaxine (SNRI primarily metabolized by CYP2D6, with CYP2C19 involvement), versus b) initiating escitalopram (SSRI primarily metabolized by CYP2C19) potentially augmented with nortriptyline (TCA primarily metabolized by CYP2D6). Discuss the predicted impact on drug exposure, efficacy, and tolerability for both scenarios, and outline a rational therapeutic strategy incorporating pharmacogenetic insights and potential therapeutic drug monitoring (TDM).\",\n",
    "    \"An epileptic patient of Southeast Asian ancestry, currently stabilized on phenytoin but experiencing breakthrough seizures, is being considered for add-on therapy with carbamazepine. Genetic testing reveals the patient carries the HLA-B*1502 allele and possesses a CYP2C9*1/*3 genotype (intermediate metabolizer). Evaluate the compounded risks: a) the extremely high risk of SJS/TEN associated with HLA-B*1502 upon introducing carbamazepine (and the known, albeit lower, risk with phenytoin), and b) the altered phenytoin metabolism due to the CYP2C9 variant, potentially leading to toxicity or requiring dose adjustments, which could be further complicated by drug interactions if carbamazepine were added. Discuss the absolute contraindication for carbamazepine and the careful management and monitoring required for continuing phenytoin, considering alternative add-on agents without the HLA-B*1502 association.\",\n",
    "    \"A patient undergoing moderately emetogenic chemotherapy requires antiemetics and is prescribed ondansetron (metabolized partly by CYP2D6). Concurrently, they require analgesia for breakthrough pain and are given codeine (a prodrug requiring activation by CYP2D6). If this patient is subsequently found to be a CYP2D6 ultrarapid metabolizer (e.g., due to gene duplication), analyze the potential clinical consequences arising from this genotype impacting both medications simultaneously: a) the heightened risk of opioid toxicity (e.g., respiratory depression) even with standard codeine doses due to rapid conversion to morphine, and b) the potential for altered ondansetron efficacy or clearance (though clinical significance is less established than for codeine/TCAs). Discuss appropriate management adjustments for both pain and nausea in this specific genetic context.\",\n",
    "    \"A 58-year-old patient with an ECOG performance status of 1 presents with rectal bleeding and a 5kg weight loss, subsequently diagnosed with metastatic colorectal cancer (KRAS wild-type) suitable for first-line chemotherapy with the FOLFIRI regimen. Baseline total bilirubin is 1.1 mg/dL; renal function is normal. Just prior to initiating FOLFIRI, he develops significant oropharyngeal candidiasis requiring treatment and is prescribed itraconazole 200 mg daily. Pre-treatment genotyping reveals he is homozygous for the UGT1A1*28 allele (genotype 7/7). Please justify your proposed starting dose modification for irinotecan, outline an intensified monitoring strategy, and provide recommendations regarding the use of antiviral agents. \",\n",
    "    \"A 38-year-old patient presents with severe, lancinating trigeminal neuralgia unresponsive to NSAIDs, significantly impacting his work as an interpreter. Carbamazepine is considered. HLA-A*31:01 testing is ordered, acknowledging standard practice and test availability. While awaiting the results (which may take several days), carbamazepine is cautiously initiated at 100mg BID due to symptom severity. Three days later, he develops acute bacterial sinusitis requiring antibiotic therapy, and clarithromycin 500mg BID is prescribed for 10 days. Outline your specific actions regarding the carbamazepine dose immediately upon starting clarithromycin. Discuss how this necessary short-term management, driven by the drug interaction, intersects with and potentially complicates the longer-term therapeutic plan which will be influenced by the eventual HLA-A*31:01 result.\",\n",
    "    \"A 28-year-old patient of mixed European descent with a baseline eGFR of 95 mL/min/1.73m² is undergoing consolidation therapy for primary mediastinal large B-cell lymphoma. The treatment regimen includes high-dose methotrexate (HD-MTX) administered at 5 g/m². He is also routinely receiving omeprazole 40 mg daily for gastric protection. Pharmacogenetic testing indicates that the patient carries the SLCO1B1 c.521T>C variant (heterozygous, e.g., *1/*15 genotype). Following HD-MTX infusion, the plasma methotrexate concentration at 72 hours is 5 μM, accompanied by a 1.5-fold worsening of renal function. What factors can contribute to delayed methotrexate elimination, and what are the underlying mechanisms? What are the current recommended management strategies for delayed methotrexate elimination? Which methotrexate-related toxicities should be monitored, and until when should monitoring continue to ensure that methotrexate toxicity risk has significantly decreased?\",\n",
    "    \"A 45-year-old patient with a history of coronary stent placement one year prior (currently on low-dose aspirin and clopidogrel 75mg daily) presents with moderate-severe epigastric pain. Endoscopy confirms multiple duodenal ulcers and Helicobacter pylori gastritis. He previously failed bismuth quadruple therapy. Standard 14-day clarithromycin-based triple therapy (including amoxicillin 1g BID and a PPI) is indicated. Pharmacogenetic testing reveals the patient is a CYP2C19 ultrarapid metabolizer (*17/*17 genotype). Propose an integrated management plan: Specify your chosen PPI regimen, detail how you will manage the clopidogrel therapy during these 14 days, and state your plan for confirming eradication.\",\n",
    "    \"A 7-year-old child treated for high-risk neuroblastoma received multi-agent chemotherapy including a cumulative cisplatin dose of 400 mg/m² and weekly vincristine infusions. Baseline audiology was normal. Post-treatment evaluation detects significant bilateral sensorineural hearing loss (Grade 2-3) and concurrent Grade 2 peripheral neuropathy (sensory > motor). Retrospective pharmacogenetic testing shows the child is heterozygous for TPMT*3A, a reduced function allele. Discuss the management of the child's susceptibility to chemotherapy-induced neurotoxicities (both auditory and peripheral). Recommendations for subsequent pharmacologic treatment of high-risk neuroblastoma.\"\n",
    "    ]"
   ]
  },
  {
   "cell_type": "code",
   "execution_count": 37,
   "metadata": {},
   "outputs": [],
   "source": [
    "dataloader = DataLoader(\n",
    "    queries,\n",
    "    batch_size=1,\n",
    "    shuffle=False,\n",
    "    collate_fn=lambda x: processor.process_queries(x),\n",
    ")\n",
    "qs = []\n",
    "for batch_query in dataloader:\n",
    "    with torch.no_grad():\n",
    "        batch_query = {k: v.to(model.device) for k, v in batch_query.items()}\n",
    "        embeddings_query = model(**batch_query)\n",
    "        qs.extend(list(torch.unbind(embeddings_query.to(\"cpu\"))))"
   ]
  },
  {
   "cell_type": "code",
   "execution_count": 20,
   "metadata": {},
   "outputs": [],
   "source": [
    "from pdf2image import convert_from_path\n",
    "from PIL import Image\n",
    "import os\n",
    "\n",
    "def open_pdf_page(pdf_path, page_number):\n",
    "    \"\"\"\n",
    "    Open pdf with page number\n",
    "    \n",
    "    Params:\n",
    "    pdf_path (str)\n",
    "    page_number (int), 0 indexing\n",
    "    \n",
    "    Returns:\n",
    "    PIL.Image: \n",
    "    \"\"\"\n",
    "    try:\n",
    "        images = convert_from_path(pdf_path)\n",
    "        \n",
    "        if page_number < 0 or page_number >= len(images):\n",
    "            raise ValueError(f\"页码 {page_number} 超出范围。PDF共有 {len(images)} 页\")\n",
    "        \n",
    "        selected_page = images[page_number]\n",
    "        return selected_page\n",
    "        \n",
    "    except Exception as e:\n",
    "        print(f\"处理PDF时出错: {str(e)}\")\n",
    "        return None"
   ]
  },
  {
   "cell_type": "code",
   "execution_count": null,
   "metadata": {},
   "outputs": [],
   "source": [
    "open_pdf_page(\"./Guidelines/Clinical Pharmacogenetics Implementation Consortium (CPIC) Guideline for CYP2D6, CYP2C19, CYP2B6, SLC6A4, and HTR2A Genotypes and Serotonin Reuptake Inhibitor Antidepressants (April 2023).pdf\", 12)"
   ]
  },
  {
   "cell_type": "code",
   "execution_count": 7,
   "metadata": {},
   "outputs": [],
   "source": [
    "from IPython.display import display, HTML\n",
    "\n",
    "question_num = [\n",
    "    \"Q3\",\n",
    "    \"Q4\",\n",
    "    \"Q7\",\n",
    "    \"Q8\",\n",
    "    \"Q11\",\n",
    "    \"Q12\",\n",
    "    \"Q15\",\n",
    "    \"Q16\",\n",
    "    \"Q19\",\n",
    "    \"Q20\"\n",
    "]\n",
    "# 創建保存圖片的目錄\n",
    "output_dir = \"Hard_question_CPIC_retrieval_directly\"\n",
    "os.makedirs(output_dir, exist_ok=True)\n",
    "\n",
    "def display_query_results_Qnumber(query, response, q_number, hits=3):\n",
    "    query_time = response.json.get(\"timing\", {}).get(\"searchtime\", -1)\n",
    "    query_time = round(query_time, 2)\n",
    "    count = response.json.get(\"root\", {}).get(\"fields\", {}).get(\"totalCount\", 0)\n",
    "    html_content = f\"Query text: '{query}', query time {query_time}s, count={count}, top results:\"\n",
    "\n",
    "    for i, hit in enumerate(response.hits[:hits]):\n",
    "        title = hit[\"fields\"][\"name\"]\n",
    "        path = hit[\"fields\"][\"path\"]\n",
    "        page = hit[\"fields\"][\"page_number\"]\n",
    "        image = hit[\"fields\"][\"image\"]\n",
    "        score = hit[\"relevance\"]\n",
    "        # open image using path\n",
    "        show_image = open_pdf_page(path, page)\n",
    "\n",
    "        image_filename = f\"{q_number}_{i}_{title}_{page+1}.png\"\n",
    "        image_path = os.path.join(output_dir, image_filename)\n",
    "        show_image.save(image_path)\n",
    "        \n",
    "        # display(resize_image(show_image, 640))\n",
    "        html_content += f\"PDF Result {i + 1}\\n\"\n",
    "        html_content += f\"File: {q_number}_{i}_{title}_{page+1}.png\\n\"\n",
    "        html_content += f'Title: {title}, page {page+1} with score {score:.2f}\\n'\n",
    "        html_content += (\n",
    "            f''\n",
    "        )\n",
    "\n",
    "    display(HTML(html_content))\n",
    "    output_file = \"Hard_question_CPIC_retrieval_directly.txt\"\n",
    "    with open(output_file, \"a\", encoding=\"utf-8\") as f:  # 使用 \"a\" 模式追加內容\n",
    "        f.write(html_content)\n",
    "        f.write(\"\\n\")  # 添加額外的換行"
   ]
  },
  {
   "cell_type": "code",
   "execution_count": 39,
   "metadata": {},
   "outputs": [
    {
     "data": {
      "text/html": [
       "Query text: 'A 55-year-old male patient of Taiwanese descent with a history of gout (requiring urate-lowering therapy) undergoes kidney transplantation and is initiated on azathioprine for immunosuppression. Pre-emptive genotyping reveals he carries both the HLA-B*5801 allele (increasing risk for allopurinol-induced SCARs) and is heterozygous for a NUDT15 variant (e.g., c.415C>T, conferring intermediate thiopurine methyltransferase activity). Analyze the complex management challenges: a) the significantly increased risk of potentially fatal azathioprine-induced myelosuppression due to the NUDT15 status, requiring dose reduction, and b) the contraindication of using first-line allopurinol for his gout due to the HLA-B*5801 status, necessitating alternative gout management strategies (like febuxostat, considering its own warnings and potential interaction with azathioprine metabolism). Discuss the sequential decision-making and monitoring required.', query time 0.02s, count=0, top results:"
      ],
      "text/plain": [
       "<IPython.core.display.HTML object>"
      ]
     },
     "metadata": {},
     "output_type": "display_data"
    },
    {
     "data": {
      "text/html": [
       "Query text: 'Consider a patient presenting with acute coronary syndrome (ACS) requiring percutaneous coronary intervention (PCI) and subsequent dual antiplatelet therapy (DAPT) plus high-intensity statin treatment. Genotyping indicates the patient is a CYP2C19 intermediate metabolizer (e.g., *1/*2 genotype, potentially reducing clopidogrel activation) and also carries the SLCO1B1 c.521T>C variant (associated with increased risk of simvastatin-induced myopathy). Critically evaluate the choices for both the P2Y12 inhibitor component of DAPT (clopidogrel vs. ticagrelor/prasugrel) and the high-intensity statin (simvastatin vs. atorvastatin/rosuvastatin), explicitly considering how the combination of these two genetic variants influences the overall risk-benefit assessment for preventing both ischemic events (stent thrombosis) and adverse drug reactions (myopathy).', query time 0.01s, count=0, top results:"
      ],
      "text/plain": [
       "<IPython.core.display.HTML object>"
      ]
     },
     "metadata": {},
     "output_type": "display_data"
    },
    {
     "data": {
      "text/html": [
       "Query text: 'A patient diagnosed with major depressive disorder and comorbid neuropathic pain requires pharmacotherapy. They are identified as a CYP2D6 poor metabolizer and a CYP2C19 rapid metabolizer. Analyze the implications of this combined genotype profile when considering treatment options such as: a) initiating venlafaxine (SNRI primarily metabolized by CYP2D6, with CYP2C19 involvement), versus b) initiating escitalopram (SSRI primarily metabolized by CYP2C19) potentially augmented with nortriptyline (TCA primarily metabolized by CYP2D6). Discuss the predicted impact on drug exposure, efficacy, and tolerability for both scenarios, and outline a rational therapeutic strategy incorporating pharmacogenetic insights and potential therapeutic drug monitoring (TDM).', query time 0.01s, count=0, top results:"
      ],
      "text/plain": [
       "<IPython.core.display.HTML object>"
      ]
     },
     "metadata": {},
     "output_type": "display_data"
    },
    {
     "data": {
      "text/html": [
       "Query text: 'An epileptic patient of Southeast Asian ancestry, currently stabilized on phenytoin but experiencing breakthrough seizures, is being considered for add-on therapy with carbamazepine. Genetic testing reveals the patient carries the HLA-B*1502 allele and possesses a CYP2C9*1/*3 genotype (intermediate metabolizer). Evaluate the compounded risks: a) the extremely high risk of SJS/TEN associated with HLA-B*1502 upon introducing carbamazepine (and the known, albeit lower, risk with phenytoin), and b) the altered phenytoin metabolism due to the CYP2C9 variant, potentially leading to toxicity or requiring dose adjustments, which could be further complicated by drug interactions if carbamazepine were added. Discuss the absolute contraindication for carbamazepine and the careful management and monitoring required for continuing phenytoin, considering alternative add-on agents without the HLA-B*1502 association.', query time 0.01s, count=0, top results:"
      ],
      "text/plain": [
       "<IPython.core.display.HTML object>"
      ]
     },
     "metadata": {},
     "output_type": "display_data"
    },
    {
     "data": {
      "text/html": [
       "Query text: 'A patient undergoing moderately emetogenic chemotherapy requires antiemetics and is prescribed ondansetron (metabolized partly by CYP2D6). Concurrently, they require analgesia for breakthrough pain and are given codeine (a prodrug requiring activation by CYP2D6). If this patient is subsequently found to be a CYP2D6 ultrarapid metabolizer (e.g., due to gene duplication), analyze the potential clinical consequences arising from this genotype impacting both medications simultaneously: a) the heightened risk of opioid toxicity (e.g., respiratory depression) even with standard codeine doses due to rapid conversion to morphine, and b) the potential for altered ondansetron efficacy or clearance (though clinical significance is less established than for codeine/TCAs). Discuss appropriate management adjustments for both pain and nausea in this specific genetic context.', query time 0.01s, count=0, top results:"
      ],
      "text/plain": [
       "<IPython.core.display.HTML object>"
      ]
     },
     "metadata": {},
     "output_type": "display_data"
    },
    {
     "data": {
      "text/html": [
       "Query text: 'A 58-year-old patient with an ECOG performance status of 1 presents with rectal bleeding and a 5kg weight loss, subsequently diagnosed with metastatic colorectal cancer (KRAS wild-type) suitable for first-line chemotherapy with the FOLFIRI regimen. Baseline total bilirubin is 1.1 mg/dL; renal function is normal. Just prior to initiating FOLFIRI, he develops significant oropharyngeal candidiasis requiring treatment and is prescribed itraconazole 200 mg daily. Pre-treatment genotyping reveals he is homozygous for the UGT1A1*28 allele (genotype 7/7). Please justify your proposed starting dose modification for irinotecan, outline an intensified monitoring strategy, and provide recommendations regarding the use of antiviral agents. ', query time 0.01s, count=0, top results:"
      ],
      "text/plain": [
       "<IPython.core.display.HTML object>"
      ]
     },
     "metadata": {},
     "output_type": "display_data"
    },
    {
     "data": {
      "text/html": [
       "Query text: 'A 38-year-old patient presents with severe, lancinating trigeminal neuralgia unresponsive to NSAIDs, significantly impacting his work as an interpreter. Carbamazepine is considered. HLA-A*31:01 testing is ordered, acknowledging standard practice and test availability. While awaiting the results (which may take several days), carbamazepine is cautiously initiated at 100mg BID due to symptom severity. Three days later, he develops acute bacterial sinusitis requiring antibiotic therapy, and clarithromycin 500mg BID is prescribed for 10 days. Outline your specific actions regarding the carbamazepine dose immediately upon starting clarithromycin. Discuss how this necessary short-term management, driven by the drug interaction, intersects with and potentially complicates the longer-term therapeutic plan which will be influenced by the eventual HLA-A*31:01 result.', query time 0.01s, count=0, top results:"
      ],
      "text/plain": [
       "<IPython.core.display.HTML object>"
      ]
     },
     "metadata": {},
     "output_type": "display_data"
    },
    {
     "data": {
      "text/html": [
       "Query text: 'A 28-year-old patient of mixed European descent with a baseline eGFR of 95 mL/min/1.73m² is undergoing consolidation therapy for primary mediastinal large B-cell lymphoma. The treatment regimen includes high-dose methotrexate (HD-MTX) administered at 5 g/m². He is also routinely receiving omeprazole 40 mg daily for gastric protection. Pharmacogenetic testing indicates that the patient carries the SLCO1B1 c.521T>C variant (heterozygous, e.g., *1/*15 genotype). Following HD-MTX infusion, the plasma methotrexate concentration at 72 hours is 5 μM, accompanied by a 1.5-fold worsening of renal function. What factors can contribute to delayed methotrexate elimination, and what are the underlying mechanisms? What are the current recommended management strategies for delayed methotrexate elimination? Which methotrexate-related toxicities should be monitored, and until when should monitoring continue to ensure that methotrexate toxicity risk has significantly decreased?', query time 0.01s, count=0, top results:"
      ],
      "text/plain": [
       "<IPython.core.display.HTML object>"
      ]
     },
     "metadata": {},
     "output_type": "display_data"
    },
    {
     "data": {
      "text/html": [
       "Query text: 'A 45-year-old patient with a history of coronary stent placement one year prior (currently on low-dose aspirin and clopidogrel 75mg daily) presents with moderate-severe epigastric pain. Endoscopy confirms multiple duodenal ulcers and Helicobacter pylori gastritis. He previously failed bismuth quadruple therapy. Standard 14-day clarithromycin-based triple therapy (including amoxicillin 1g BID and a PPI) is indicated. Pharmacogenetic testing reveals the patient is a CYP2C19 ultrarapid metabolizer (*17/*17 genotype). Propose an integrated management plan: Specify your chosen PPI regimen, detail how you will manage the clopidogrel therapy during these 14 days, and state your plan for confirming eradication.', query time 0.01s, count=0, top results:"
      ],
      "text/plain": [
       "<IPython.core.display.HTML object>"
      ]
     },
     "metadata": {},
     "output_type": "display_data"
    },
    {
     "data": {
      "text/html": [
       "Query text: 'A 7-year-old child treated for high-risk neuroblastoma received multi-agent chemotherapy including a cumulative cisplatin dose of 400 mg/m² and weekly vincristine infusions. Baseline audiology was normal. Post-treatment evaluation detects significant bilateral sensorineural hearing loss (Grade 2-3) and concurrent Grade 2 peripheral neuropathy (sensory > motor). Retrospective pharmacogenetic testing shows the child is heterozygous for TPMT*3A, a reduced function allele. Discuss the management of the child's susceptibility to chemotherapy-induced neurotoxicities (both auditory and peripheral). Recommendations for subsequent pharmacologic treatment of high-risk neuroblastoma.', query time 0.02s, count=0, top results:"
      ],
      "text/plain": [
       "<IPython.core.display.HTML object>"
      ]
     },
     "metadata": {},
     "output_type": "display_data"
    }
   ],
   "source": [
    "from vespa.io import VespaQueryResponse\n",
    "\n",
    "\n",
    "async with app.asyncio(connections=1, timeout=120) as session:\n",
    "    for idx, query in enumerate(queries):\n",
    "        query_embedding = {k: v.tolist() for k, v in enumerate(qs[idx])}\n",
    "        response: VespaQueryResponse = await session.query(\n",
    "            yql=\"select name,path,image,page_number from pdf_page where userInput(@userQuery)\",\n",
    "            ranking=\"default\",\n",
    "            userQuery=query,\n",
    "            timeout=120,\n",
    "            hits=10,\n",
    "            body={\"input.query(qt)\": query_embedding, \"presentation.timing\": True},\n",
    "        )\n",
    "        assert response.is_successful()\n",
    "        q_number = question_num[idx]\n",
    "        display_query_results_Qnumber(query, response, q_number, hits=10)"
   ]
  },
  {
   "cell_type": "markdown",
   "metadata": {},
   "source": [
    "# Query Rewriting部分"
   ]
  },
  {
   "cell_type": "code",
   "execution_count": null,
   "metadata": {},
   "outputs": [],
   "source": [
    "from langchain_nvidia_ai_endpoints import ChatNVIDIA\n",
    "import os\n",
    "import dotenv\n",
    "\n",
    "dotenv.load_dotenv()\n",
    "\n",
    "\n",
    "client = ChatNVIDIA(\n",
    "  model=\"meta/llama-3.3-70b-instruct\",\n",
    "  api_key=os.getenv(\"NVIDIA_API\"), \n",
    "  temperature=0,\n",
    "  top_p=0.95,\n",
    "  max_tokens=4096,\n",
    ")\n",
    "\n",
    "cpic_guideline_name_list = os.listdir(\"./Guidelines\")\n",
    "queries_to_rewrite = queries \n",
    "queries_q_dissect = []\n",
    "\n",
    "\n",
    "for idx, query in enumerate(queries_to_rewrite):\n",
    "  prompt = f\"\"\"\n",
    "\n",
    "    You are an expert information retrieval assistant specializing in pharmacogenomics.\n",
    "    Your sole task is to deconstruct a user's question about CPIC guidelines and convert it into one or more structured search query strings formatted for a database.\n",
    "    Your final output **must be only a Python list** containing these formatted strings. Do not include any other text, explanation, or conversational filler.\n",
    "\n",
    "    **CPIC Guideline List:**\n",
    "    `{cpic_guideline_name_list}`\n",
    "    **User Question:**\n",
    "\n",
    "    `{query}`\n",
    "\n",
    "    Now, apply this logic to the user's question below. To do this, you will:\n",
    "\n",
    "    1.  **Analyze the User's Question:** Deconstruct the query to understand its components.\n",
    "    2.  **Identify Entities:**\n",
    "        * Extract the primary **drug name(s)** (product or generic name). If no specific drug is mentioned, use \"N/A\".\n",
    "        * Extract the primary **gene name(s)**. If no specific gene is mentioned, use \"N/A\".\n",
    "    3.  **Construct Content to Search:**\n",
    "        Reasoning:\n",
    "        * Analyze the gene and drug in the question.\n",
    "        * List out the direct interaction between the gene and drug.\n",
    "        * Don't list out the indirect interaction between the gene and drug.\n",
    "        * Don't consider the interaction between the gene and drug if the gene is not related to the drug, or the drug is not related to the gene.\n",
    "        * Don't take the drug and gene that's not mentioned in the question into consideration. Avoid overthinking.\n",
    "        * Consider possible cpic guidelines and content that is a direct quote from the guideline.\n",
    "        * **Crucially, the extracted \"Content to Search\" must inherently contain both the identified drug name and gene name.**\n",
    "        * The total length of \"Content to Search\" should not exceed 150 words.\n",
    "        * The \"Content to Search\" should also specify the reason for choosing this guideline and what specific information to search for within it. Be as detailed as possible within the word constraints.\n",
    "        * **If `Content to Search` must also be \"N/A\", then `CPIC Guideline Name` must also be \"N/A\".**\n",
    "    4. * **Identify the specific CPIC Guideline Name** from `{cpic_guideline_name_list}` that is **DIRECTLY RELATED** to **both** the identified drug and gene.\n",
    "            * **Strict Matching Rule:** A guideline is \"directly related\" only if:\n",
    "                * The drug name (or its generic equivalent) is explicitly part of the guideline's name, OR\n",
    "                * The guideline specifically covers the drug in its primary scope (as implied by its name, generic name, or product name), AND\n",
    "                * The gene name is also relevant to that same guideline.\n",
    "            * **Crucially:**\n",
    "                * Do **NOT** consider any indirect interactions between a drug in the question and a drug *within* a guideline if the primary scope of the guideline (as indicated by its name, generic name, or product name) does not include the questioned drug.\n",
    "                * Do **NOT** consider any indirect interactions between a gene in the question and a gene *within* a guideline if the primary scope of the guideline (as indicated by its name, generic name, or product name) does not explicitly include the questioned gene in relation to the questioned drug.\n",
    "            * If, after applying these strict rules, no directly related CPIC Guideline Name is found, use \"N/A\".\n",
    "    5.  **Format the Output:**\n",
    "        * Generate a separate formatted string for each distinct query implied by the question.\n",
    "        * Use the exact format: `\"Drug Name: [Extracted Drug], Gene Name: [Extracted Gene], CPIC Guideline Name: [Identified CPIC Guideline Name], Content to Search: [Extracted Guideline Text or N/A]\"`\n",
    "        * Place all generated strings into a single Python list.\n",
    "        * **Final Rule:** If, after all steps, all fields (Drug Name, Gene Name, CPIC Guideline Name, Content to Search) for a potential query are \"N/A\" or no valid query could be formed, then **return an empty Python list `[]`**.\n",
    "\n",
    "    Now, learn the required format from these examples.\n",
    "\n",
    "    Positive Example:\n",
    "    ---\n",
    "    **Example 1:**\n",
    "    \"Drug Name: Venlafaxine, Gene Name: CYP2D6, CPIC Guideline Name: Antidepressants (Selective Serotonin Reuptake Inhibitors and Serotonin Norepinephrine Reuptake Inhibitors), Content to Search: Implications for drug exposure, efficacy, and tolerability in CYP2D6 PM and dosing recommendations.\"\n",
    "\n",
    "    Negative Example (Crucial for \"N/A\" handling and empty list output):\n",
    "    ---\n",
    "    **Example 2 (Incorrect Logic & Output):**\n",
    "    User Question: \"What are the CPIC guidelines for Irinotecan and UGT1A1?\"\n",
    "    CPIC Guideline List: `[\"Clinical Pharmacogenetics Implementation Consortium (CPIC) Guidelines for UGT1A1 and Atazanavir Prescribing (September 2015) .pdf\", ...other guidelines...]`\n",
    "\n",
    "    An **INCORRECT** output would be:\n",
    "    `[\"Drug Name: Irinotecan, Gene Name: UGT1A1, CPIC Guideline Name: Clinical Pharmacogenetics Implementation Consortium (CPIC) Guidelines for UGT1A1 and Atazanavir Prescribing (September 2015) .pdf, Content to Search: UGT1A1*28\"]`\n",
    "    **Reasoning for Incorrectness:** Although UGT1A1 is mentioned in the guideline name, Irinotecan is *not* a drug specifically covered or named in the \"UGT1A1 and Atazanavir\" guideline. According to the rules, we must ensure the drug is directly related to the guideline's generic name or explicitly present in the guideline name. Since Irinotecan does not belong to Atazanavir's generic group nor is it named, this guideline is not directly related to Irinotecan.\n",
    "\n",
    "    **The CORRECT output for the above User Question would be an empty Python list:**\n",
    "    `[]`\n",
    "    **Reasoning for Correctness:** Because no CPIC Guideline in the provided list directly covers the combination of \"Irinotecan\" and \"UGT1A1\" according to the strict matching rules, no valid search query can be formed. Therefore, an empty list must be returned.\n",
    "    \n",
    "    **Example 3 (Empty List Output):**\n",
    "    User Question: \"A 7-year-old child treated for high-risk neuroblastoma received multi-agent chemotherapy including a cumulative cisplatin dose of 400 mg/m² and weekly vincristine infusions. Baseline audiology was normal. Post-treatment evaluation detects significant bilateral sensorineural hearing loss (Grade 2-3) and concurrent Grade 2 peripheral neuropathy (sensory > motor). Retrospective pharmacogenetic testing shows the child is heterozygous for TPMT*3A, a reduced function allele. Discuss the management of the child's susceptibility to chemotherapy-induced neurotoxicities (both auditory and peripheral). Recommendations for subsequent pharmacologic treatment of high-risk neuroblastoma.\"\n",
    "    CPIC Guideline List: `[\"Q20_0_Clinical Pharmacogenetics Implementation Consortium (CPIC) Guideline for MT-RNR1 and Aminoglycosides (May 2021) .pdf\", \"Q20_1_Clinical Pharmacogenetics Implementation Consortium (CPIC) Guideline for MT-RNR1 and Aminoglycosides (May 2021) .pdf\", \"Q20_2_Clinical Pharmacogenetics Implementation Consortium (CPIC) Guidelines for Dihydropyrimidine Dehydrogenase Genotype and Fluoropyrimidine Dosing (December 2013) .pdf\", \"Q20_3_Clinical Pharmacogenetics Implementation Consortium Guidelines for thiopurine dosing based on TPMT and NUDT15 genotypes- 2018 Update (November 2018) .pdf\", \"Q20_4_Clinical Pharmacogenetics Implementation Consortium (CPIC) Guidelines for Dihydropyrimidine Dehydrogenase Genotype and Fluoropyrimidine Dosing (December 2013) .pdf\", \"Q20_5_Clinical Pharmacogenetics Implementation Consortium Guidelines for Thiopurine Methyltransferase Genotype and Thiopurine Dosing .pdf\", \"Q20_6_Clinical Pharmacogenetics Implementation Consortium Guidelines for thiopurine dosing based on TPMT and NUDT15 genotypes- 2018 Update (November 2018) .pdf\", \"Q20_7_Clinical Pharmacogenetics Implementation Consortium (CPIC) Guideline for CYP2D6 and Tamoxifen Therapy (January 2018) .pdf\", \"Q20_8_Clinical Pharmacogenetics Implementation Consortium (CPIC) Guideline for CYP2D6 Genotype and Use of Ondansetron and Tropisetron (December 2016) .pdf\", \"Q20_9_Clinical Pharmacogenetics Implementation Consortium (CPIC) Guideline for Dihydropyrimidine Dehydrogenase Genotype and Fluoropyrimidine Dosing- 2017 Update (October 2017) .pdf\"]`\n",
    "    \n",
    "    An **INCORRECT** output would be:\n",
    "    ```python\n",
    "    [\n",
    "        \"Drug Name: Cisplatin, Gene Name: TPMT, CPIC Guideline Name: N/A, Content to Search: N/A\",\n",
    "        \"Drug Name: Vincristine, Gene Name: TPMT, CPIC Guideline Name: N/A, Content to Search: N/A\"\n",
    "    ]\n",
    "    ```\n",
    "    **Reasoning for Incorrectness:** According to the \"Final Rule\" in step 5, if all fields are \"N/A\" or no valid query could be formed (which is the case here as TPMT is mentioned but no guideline directly links TPMT to Cisplatin or Vincristine's neurotoxicity), then an empty list `[]` must be returned.\n",
    "\n",
    "    **The CORRECT output for the above User Question would be an empty Python list:**\n",
    "    `[]`\n",
    "    **Reasoning for Correctness:** Because no CPIC Guideline in the provided list directly covers the combination of \"Cisplatin/Vincristine\" and \"TPMT\" according to the strict matching rules, no valid search query can be formed. Therefore, an empty list must be returned.\n",
    "    ---\n",
    "\n",
    "    **CPIC Guideline List:**\n",
    "    `{cpic_guideline_name_list}`\n",
    "    **User Question:**\n",
    "    `{query}`\n",
    "\n",
    "    **Output:**\n",
    "    \"\"\"\n",
    "  response = client.invoke([{\"role\":\"user\",\"content\":prompt}])\n",
    "  # print(f\"response: {response}\")\n",
    "  print(f\"query_rewrite_{question_num[idx]} = {response.content}\")\n",
    "  queries_q_dissect.append(list(response.content))\n",
    "\n",
    "print(queries_q_dissect)\n"
   ]
  },
  {
   "cell_type": "code",
   "execution_count": 46,
   "metadata": {},
   "outputs": [],
   "source": [
    "from IPython.display import display, HTML\n",
    "\n",
    "question_num = [\n",
    "    \"q3\",\n",
    "    \"q4\",\n",
    "    \"q7\",\n",
    "    \"q8\",\n",
    "    \"q11\",\n",
    "    \"q12\",\n",
    "    \"q15\",\n",
    "    \"q16\",\n",
    "    \"q19\",\n",
    "    \"q20\"\n",
    "]\n",
    "# 創建保存圖片的目錄\n",
    "output_dir = \"Hard_question_CPIC_retrieval_directly\"\n",
    "os.makedirs(output_dir, exist_ok=True)\n",
    "\n",
    "def display_query_results(query, response, hits=3):\n",
    "    query_time = response.json.get(\"timing\", {}).get(\"searchtime\", -1)\n",
    "    query_time = round(query_time, 2)\n",
    "    count = response.json.get(\"root\", {}).get(\"fields\", {}).get(\"totalCount\", 0)\n",
    "    html_content = f\"Query text: '{query}', query time {query_time}s, count={count}, top results:\"\n",
    "\n",
    "    for i, hit in enumerate(response.hits[:hits]):\n",
    "        title = hit[\"fields\"][\"name\"]\n",
    "        path = hit[\"fields\"][\"path\"]\n",
    "        page = hit[\"fields\"][\"page_number\"]\n",
    "        image = hit[\"fields\"][\"image\"]\n",
    "        score = hit[\"relevance\"]\n",
    "        # open image using path\n",
    "\n",
    "        \n",
    "        # display(resize_image(show_image, 640))\n",
    "        html_content += f\"PDF Result {i + 1}\\n\"\n",
    "        html_content += f\"File: {i}_{title}_{page+1}.png\\n\"\n",
    "        html_content += f'Title: {title}, page {page+1} with score {score:.2f}\\n'\n",
    "        html_content += (\n",
    "            f''\n",
    "        )\n",
    "\n",
    "    display(HTML(html_content))"
   ]
  },
  {
   "cell_type": "code",
   "execution_count": null,
   "metadata": {},
   "outputs": [],
   "source": [
    "query_rewrite_Q3 = [\n",
    "    \"Drug Name: Azathioprine, Gene Name: NUDT15, CPIC Guideline Name: Clinical Pharmacogenetics Implementation Consortium Guidelines for thiopurine dosing based on TPMT and NUDT15 genotypes- 2018 Update (November 2018) .pdf, Content to Search: NUDT15 variant and azathioprine dose reduction\",\n",
    "    \"Drug Name: Allopurinol, Gene Name: HLA-B, CPIC Guideline Name: Clinical Pharmacogenetics Implementation Consortium (CPIC) Guidelines for Human Leukocyte Antigen-B (HLA-B) Genotype and Allopurinol Dosing (February 2013) .pdf, Content to Search: HLA-B*5801 allele and allopurinol contraindication\"\n",
    "]\n",
    "query_rewrite_Q4 = [\n",
    "    \"Drug Name: Clopidogrel, Gene Name: CYP2C19, CPIC Guideline Name: Clinical Pharmacogenetics Implementation Consortium Guideline for CYP2C19 Genotype and Clopidogrel Therapy- 2022 update (January 2022) .pdf, Content to Search: Implications of CYP2C19 intermediate metabolizer status on clopidogrel activation and dosing recommendations\",\n",
    "    \"Drug Name: Simvastatin, Gene Name: SLCO1B1, CPIC Guideline Name: The Clinical Pharmacogenetics Implementation Consortium (CPIC) guideline for SLCO1B1, ABCG2, and CYP2C9 and statin-associated musculoskeletal symptoms (January 2022) .pdf, Content to Search: Risk of simvastatin-induced myopathy in patients with SLCO1B1 c.521T>C variant and alternative statin options\"\n",
    "]\n",
    "query_rewrite_Q7 = [\n",
    "    \"Drug Name: Venlafaxine, Gene Name: CYP2D6, CPIC Guideline Name: Clinical Pharmacogenetics Implementation Consortium Guideline (CPIC®) for CYP2D6 and CYP2C19 Genotypes and Dosing of Tricyclic Antidepressants- 2016 Update (December 2016) .pdf, Content to Search: Implications for drug exposure, efficacy, and tolerability in CYP2D6 poor metabolizers and CYP2C19 rapid metabolizers\",\n",
    "    \"Drug Name: Escitalopram, Gene Name: CYP2C19, CPIC Guideline Name: Clinical Pharmacogenetics Implementation Consortium (CPIC) Guideline for CYP2D6, CYP2C19, CYP2B6, SLC6A4, and HTR2A Genotypes and Serotonin Reuptake Inhibitor Antidepressants (April 2023).pdf, Content to Search: Predicted impact on drug exposure, efficacy, and tolerability in CYP2C19 rapid metabolizers\",\n",
    "    \"Drug Name: Nortriptyline, Gene Name: CYP2D6, CPIC Guideline Name: Clinical Pharmacogenetics Implementation Consortium Guideline (CPIC®) for CYP2D6 and CYP2C19 Genotypes and Dosing of Tricyclic Antidepressants- 2016 Update (December 2016) .pdf, Content to Search: Dosing recommendations for CYP2D6 poor metabolizers\"\n",
    "]\n",
    "query_rewrite_Q8 = [\n",
    "    \"Drug Name: Phenytoin, Gene Name: CYP2C9, CPIC Guideline Name: Clinical Pharmacogenetics Implementation Consortium (CPIC) Guidelines for CYP2C9 and HLA-B Genotype and Phenytoin Dosing (August 2020) .pdf, Content to Search: Implications of CYP2C9*1/*3 genotype on phenytoin metabolism and dosing recommendations\",\n",
    "    \"Drug Name: Carbamazepine, Gene Name: HLA-B, CPIC Guideline Name: Clinical Pharmacogenetics Implementation Consortium (CPIC) Guideline for HLA Genotype and Use of Carbamazepine and Oxcarbazepine- 2017 Update (December 2017) .pdf, Content to Search: HLA-B*1502 allele association with carbamazepine-induced SJS/TEN and absolute contraindication\"\n",
    "]\n",
    "query_rewrite_Q11 = [\n",
    "    \"Drug Name: Ondansetron, Gene Name: CYP2D6, CPIC Guideline Name: Clinical Pharmacogenetics Implementation Consortium (CPIC) Guideline for CYP2D6 Genotype and Use of Ondansetron and Tropisetron (December 2016) .pdf, Content to Search: Implications of CYP2D6 ultrarapid metabolizer genotype on ondansetron efficacy and clearance\",\n",
    "    \"Drug Name: Codeine, Gene Name: CYP2D6, CPIC Guideline Name: Clinical Pharmacogenetics Implementation Consortium (CPIC) guideline for CYP2D6, OPRM1, and COMT genotype and select opioid therapy (December 2020) .pdf, Content to Search: Heightened risk of opioid toxicity in CYP2D6 ultrarapid metabolizers due to rapid conversion of codeine to morphine\"\n",
    "]\n",
    "query_rewrite_Q12 = []\n",
    "query_rewrite_Q15 = [\"Drug Name: Carbamazepine, Gene Name: HLA-A, CPIC Guideline Name: Clinical Pharmacogenetics Implementation Consortium (CPIC) Guideline for HLA Genotype and Use of Carbamazepine and Oxcarbazepine- 2017 Update (December 2017) .pdf, Content to Search: HLA-A*31:01 allele and carbamazepine dosing recommendations\"]\n",
    "query_rewrite_Q16 = [\"Drug Name: Methotrexate, Gene Name: SLCO1B1, CPIC Guideline Name: The Clinical Pharmacogenetics Implementation Consortium (CPIC) guideline for SLCO1B1, ABCG2, and CYP2C9 and statin-associated musculoskeletal symptoms (January 2022) .pdf, Content to Search: SLCO1B1 variant and methotrexate elimination\"]\n",
    "query_rewrite_Q19 = [\n",
    "    \"Drug Name: Clopidogrel, Gene Name: CYP2C19, CPIC Guideline Name: Clinical Pharmacogenetics Implementation Consortium Guideline for CYP2C19 Genotype and Clopidogrel Therapy- 2022 update (January 2022) .pdf, Content to Search: Recommendations for CYP2C19 ultrarapid metabolizers and clopidogrel dosing adjustments\",\n",
    "    \"Drug Name: PPI, Gene Name: CYP2C19, CPIC Guideline Name: Clinical Pharmacogenetics Implementation Consortium (CPIC) Guideline for CYP2C19 and Proton Pump Inhibitor Dosing (August 2020) .pdf, Content to Search: Guidance on selecting appropriate PPIs for CYP2C19 ultrarapid metabolizers\"\n",
    "]\n",
    "query_rewrite_Q20 = []"
   ]
  },
  {
   "cell_type": "code",
   "execution_count": null,
   "metadata": {},
   "outputs": [],
   "source": [
    "from vespa.io import VespaQueryResponse\n",
    "for queries in queries_q_dissect:\n",
    "\n",
    "    dataloader = DataLoader(\n",
    "        queries,\n",
    "        batch_size=1,\n",
    "        shuffle=False,\n",
    "        collate_fn=lambda x: processor.process_queries(x),\n",
    "    )\n",
    "\n",
    "    qs = []\n",
    "    for batch_query in dataloader:\n",
    "        with torch.no_grad():\n",
    "            batch_query = {k: v.to(model.device) for k, v in batch_query.items()}\n",
    "            embeddings_query = model(**batch_query)\n",
    "            qs.extend(list(torch.unbind(embeddings_query.to(\"cpu\"))))\n",
    "\n",
    "    async with app.asyncio(connections=1, timeout=120) as session:\n",
    "        for idx, query in enumerate(queries):\n",
    "            query_embedding = {k: v.tolist() for k, v in enumerate(qs[idx])}\n",
    "            response: VespaQueryResponse = await session.query(\n",
    "                yql=\"select name,path,image,page_number from pdf_page where userInput(@userQuery)\",\n",
    "                ranking=\"default\",\n",
    "                userQuery=query,\n",
    "                timeout=120,\n",
    "                hits=10,\n",
    "                body={\"input.query(qt)\": query_embedding, \"presentation.timing\": True},\n",
    "            )\n",
    "            assert response.is_successful()\n",
    "            display_query_results(query, response)"
   ]
  }
 ],
 "metadata": {
  "kernelspec": {
   "display_name": "Python 3 (ipykernel)",
   "language": "python",
   "name": "python3"
  },
  "language_info": {
   "codemirror_mode": {
    "name": "ipython",
    "version": 3
   },
   "file_extension": ".py",
   "mimetype": "text/x-python",
   "name": "python",
   "nbconvert_exporter": "python",
   "pygments_lexer": "ipython3",
   "version": "3.12.3"
  }
 },
 "nbformat": 4,
 "nbformat_minor": 4
}
