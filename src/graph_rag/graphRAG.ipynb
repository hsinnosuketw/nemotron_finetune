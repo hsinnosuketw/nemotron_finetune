{
 "cells": [
  {
   "cell_type": "code",
   "execution_count": 1,
   "id": "610fc4b4-df52-4653-ac51-e2423f6e4223",
   "metadata": {
    "tags": []
   },
   "outputs": [],
   "source": [
    "# https://python.langchain.com/v0.1/docs/use_cases/graph/constructing/"
   ]
  },
  {
   "cell_type": "code",
   "execution_count": 1,
   "id": "90f41ed2-3161-47ea-92ad-da05033e1c1a",
   "metadata": {
    "tags": []
   },
   "outputs": [],
   "source": [
    "%%bash\n",
    "pip install --upgrade --quiet langchain langchain-neo4j langchain-openai langgraph"
   ]
  },
  {
   "cell_type": "code",
   "execution_count": 9,
   "id": "719e1764-1f19-4908-aac6-06d04bc1a52e",
   "metadata": {
    "tags": []
   },
   "outputs": [],
   "source": [
    "# %%bash\n",
    "# export JAVA_HOME=/home/jovyan/java/jdk-21.0.5\n",
    "# /opt/neo4j-community-5.26.0/bin/neo4j-admin dbms set-initial-password password\n",
    "# /opt/neo4j-community-5.26.0/bin/neo4j start"
   ]
  },
  {
   "cell_type": "code",
   "execution_count": 6,
   "id": "927b588b-a92b-472d-bfd8-98ce562480cc",
   "metadata": {
    "tags": []
   },
   "outputs": [],
   "source": [
    "# Import modules.\n",
    "from neo4j import GraphDatabase\n",
    "import pandas as pd\n",
    "import json\n",
    "import time"
   ]
  },
  {
   "cell_type": "code",
   "execution_count": 7,
   "id": "8389d030-88ee-4d18-9a16-124727f74446",
   "metadata": {
    "tags": []
   },
   "outputs": [],
   "source": [
    "# Connect to Neo4j DB.\n",
    "uri = \"bolt://localhost:7687\"\n",
    "driver = GraphDatabase.driver(uri, auth=(\"neo4j\", \"password\"))"
   ]
  },
  {
   "cell_type": "code",
   "execution_count": 8,
   "id": "05182fec-dba4-42d7-87ca-f5e26a833426",
   "metadata": {
    "tags": []
   },
   "outputs": [],
   "source": [
    "# Load JSON data.\n",
    "import json\n",
    "\n",
    "with open('Full_Drug_Interaction_Data.json') as f:\n",
    "    data = json.load(f)\n"
   ]
  },
  {
   "cell_type": "code",
   "execution_count": 10,
   "id": "00794d05",
   "metadata": {},
   "outputs": [
    {
     "name": "stdout",
     "output_type": "stream",
     "text": [
      "True\n"
     ]
    }
   ],
   "source": [
    "print(\"Hello World\" in \"Hello World, My name is Jeffery.\")"
   ]
  },
  {
   "cell_type": "code",
   "execution_count": 1,
   "id": "0f8c460e-2717-411e-99cc-801d6bb379f2",
   "metadata": {
    "tags": []
   },
   "outputs": [
    {
     "ename": "ServiceUnavailable",
     "evalue": "Couldn't connect to localhost:7687 (resolved to ('127.0.0.1:7687', '[::1]:7687')):\nFailed to establish connection to ResolvedIPv4Address(('127.0.0.1', 7687)) (reason [Errno 111] Connection refused)\nFailed to establish connection to ResolvedIPv6Address(('::1', 7687, 0, 0)) (reason [Errno 99] Cannot assign requested address)",
     "output_type": "error",
     "traceback": [
      "\u001b[31m---------------------------------------------------------------------------\u001b[39m",
      "\u001b[31mConnectionRefusedError\u001b[39m                    Traceback (most recent call last)",
      "\u001b[36mFile \u001b[39m\u001b[32m~/pyenv/lib/python3.12/site-packages/neo4j/_async_compat/network/_bolt_socket.py:409\u001b[39m, in \u001b[36mBoltSocketBase._connect_secure\u001b[39m\u001b[34m(cls, resolved_address, timeout, keep_alive, ssl_context)\u001b[39m\n\u001b[32m    408\u001b[39m log.debug(\u001b[33m\"\u001b[39m\u001b[33m[#0000]  C: <OPEN> \u001b[39m\u001b[38;5;132;01m%s\u001b[39;00m\u001b[33m\"\u001b[39m, resolved_address)\n\u001b[32m--> \u001b[39m\u001b[32m409\u001b[39m \u001b[43ms\u001b[49m\u001b[43m.\u001b[49m\u001b[43mconnect\u001b[49m\u001b[43m(\u001b[49m\u001b[43mresolved_address\u001b[49m\u001b[43m)\u001b[49m\n\u001b[32m    410\u001b[39m s.settimeout(t)\n",
      "\u001b[31mConnectionRefusedError\u001b[39m: [Errno 111] Connection refused",
      "\nThe above exception was the direct cause of the following exception:\n",
      "\u001b[31mServiceUnavailable\u001b[39m                        Traceback (most recent call last)",
      "\u001b[36mFile \u001b[39m\u001b[32m~/pyenv/lib/python3.12/site-packages/neo4j/_sync/io/_bolt_socket.py:328\u001b[39m, in \u001b[36mBoltSocket.connect\u001b[39m\u001b[34m(cls, address, tcp_timeout, deadline, custom_resolver, ssl_context, keep_alive)\u001b[39m\n\u001b[32m    327\u001b[39m \u001b[38;5;28;01mtry\u001b[39;00m:\n\u001b[32m--> \u001b[39m\u001b[32m328\u001b[39m     s = \u001b[38;5;28;43mcls\u001b[39;49m\u001b[43m.\u001b[49m\u001b[43m_connect_secure\u001b[49m\u001b[43m(\u001b[49m\n\u001b[32m    329\u001b[39m \u001b[43m        \u001b[49m\u001b[43mresolved_address\u001b[49m\u001b[43m,\u001b[49m\u001b[43m \u001b[49m\u001b[43mtcp_timeout\u001b[49m\u001b[43m,\u001b[49m\u001b[43m \u001b[49m\u001b[43mkeep_alive\u001b[49m\u001b[43m,\u001b[49m\u001b[43m \u001b[49m\u001b[43mssl_context\u001b[49m\n\u001b[32m    330\u001b[39m \u001b[43m    \u001b[49m\u001b[43m)\u001b[49m\n\u001b[32m    331\u001b[39m     agreed_version, handshake, response = s._handshake(\n\u001b[32m    332\u001b[39m         resolved_address, deadline\n\u001b[32m    333\u001b[39m     )\n",
      "\u001b[36mFile \u001b[39m\u001b[32m~/pyenv/lib/python3.12/site-packages/neo4j/_async_compat/network/_bolt_socket.py:426\u001b[39m, in \u001b[36mBoltSocketBase._connect_secure\u001b[39m\u001b[34m(cls, resolved_address, timeout, keep_alive, ssl_context)\u001b[39m\n\u001b[32m    425\u001b[39m \u001b[38;5;28;01mif\u001b[39;00m \u001b[38;5;28misinstance\u001b[39m(error, \u001b[38;5;167;01mOSError\u001b[39;00m):\n\u001b[32m--> \u001b[39m\u001b[32m426\u001b[39m     \u001b[38;5;28;01mraise\u001b[39;00m ServiceUnavailable(\n\u001b[32m    427\u001b[39m         \u001b[33m\"\u001b[39m\u001b[33mFailed to establish connection to \u001b[39m\u001b[33m\"\u001b[39m\n\u001b[32m    428\u001b[39m         \u001b[33mf\u001b[39m\u001b[33m\"\u001b[39m\u001b[38;5;132;01m{\u001b[39;00mresolved_address\u001b[38;5;132;01m!r}\u001b[39;00m\u001b[33m (reason \u001b[39m\u001b[38;5;132;01m{\u001b[39;00merror\u001b[38;5;132;01m}\u001b[39;00m\u001b[33m)\u001b[39m\u001b[33m\"\u001b[39m\n\u001b[32m    429\u001b[39m     ) \u001b[38;5;28;01mfrom\u001b[39;00m\u001b[38;5;250m \u001b[39m\u001b[34;01merror\u001b[39;00m\n\u001b[32m    430\u001b[39m \u001b[38;5;28;01mraise\u001b[39;00m\n",
      "\u001b[31mServiceUnavailable\u001b[39m: Failed to establish connection to ResolvedIPv4Address(('127.0.0.1', 7687)) (reason [Errno 111] Connection refused)",
      "\nThe above exception was the direct cause of the following exception:\n",
      "\u001b[31mServiceUnavailable\u001b[39m                        Traceback (most recent call last)",
      "\u001b[36mCell\u001b[39m\u001b[36m \u001b[39m\u001b[32mIn[1]\u001b[39m\u001b[32m, line 15\u001b[39m\n\u001b[32m     12\u001b[39m \u001b[38;5;66;03m# ---------- 可选：创建唯一约束 ----------\u001b[39;00m\n\u001b[32m     13\u001b[39m \u001b[38;5;66;03m# 避免重复的 Drug 节点 & 重复的关系\u001b[39;00m\n\u001b[32m     14\u001b[39m \u001b[38;5;28;01mwith\u001b[39;00m driver.session() \u001b[38;5;28;01mas\u001b[39;00m session:\n\u001b[32m---> \u001b[39m\u001b[32m15\u001b[39m     \u001b[43msession\u001b[49m\u001b[43m.\u001b[49m\u001b[43mrun\u001b[49m\u001b[43m(\u001b[49m\u001b[33;43m\"\u001b[39;49m\u001b[33;43mCREATE CONSTRAINT IF NOT EXISTS \u001b[39;49m\u001b[33;43m\"\u001b[39;49m\n\u001b[32m     16\u001b[39m \u001b[43m                \u001b[49m\u001b[33;43m\"\u001b[39;49m\u001b[33;43mFOR (d:Drug) REQUIRE d.name IS UNIQUE\u001b[39;49m\u001b[33;43m\"\u001b[39;49m\u001b[43m)\u001b[49m\n\u001b[32m     17\u001b[39m     session.run(\u001b[33m\"\u001b[39m\u001b[33mCREATE CONSTRAINT IF NOT EXISTS \u001b[39m\u001b[33m\"\u001b[39m\n\u001b[32m     18\u001b[39m                 \u001b[33m\"\u001b[39m\u001b[33mFOR ()-[r:INTERACTS_WITH]-() \u001b[39m\u001b[33m\"\u001b[39m\n\u001b[32m     19\u001b[39m                 \u001b[33m\"\u001b[39m\u001b[33mREQUIRE (r.source, r.target) IS UNIQUE\u001b[39m\u001b[33m\"\u001b[39m)\n\u001b[32m     21\u001b[39m \u001b[38;5;66;03m# ---------- 批量写入 ----------\u001b[39;00m\n",
      "\u001b[36mFile \u001b[39m\u001b[32m~/pyenv/lib/python3.12/site-packages/neo4j/_sync/work/session.py:313\u001b[39m, in \u001b[36mSession.run\u001b[39m\u001b[34m(self, query, parameters, **kwargs)\u001b[39m\n\u001b[32m    310\u001b[39m     \u001b[38;5;28mself\u001b[39m._auto_result._buffer_all()\n\u001b[32m    312\u001b[39m \u001b[38;5;28;01mif\u001b[39;00m \u001b[38;5;129;01mnot\u001b[39;00m \u001b[38;5;28mself\u001b[39m._connection:\n\u001b[32m--> \u001b[39m\u001b[32m313\u001b[39m     \u001b[38;5;28;43mself\u001b[39;49m\u001b[43m.\u001b[49m\u001b[43m_connect\u001b[49m\u001b[43m(\u001b[49m\u001b[38;5;28;43mself\u001b[39;49m\u001b[43m.\u001b[49m\u001b[43m_config\u001b[49m\u001b[43m.\u001b[49m\u001b[43mdefault_access_mode\u001b[49m\u001b[43m)\u001b[49m\n\u001b[32m    314\u001b[39m     \u001b[38;5;28;01massert\u001b[39;00m \u001b[38;5;28mself\u001b[39m._connection \u001b[38;5;129;01mis\u001b[39;00m \u001b[38;5;129;01mnot\u001b[39;00m \u001b[38;5;28;01mNone\u001b[39;00m\n\u001b[32m    315\u001b[39m cx = \u001b[38;5;28mself\u001b[39m._connection\n",
      "\u001b[36mFile \u001b[39m\u001b[32m~/pyenv/lib/python3.12/site-packages/neo4j/_sync/work/session.py:136\u001b[39m, in \u001b[36mSession._connect\u001b[39m\u001b[34m(self, access_mode, **acquire_kwargs)\u001b[39m\n\u001b[32m    134\u001b[39m     access_mode = \u001b[38;5;28mself\u001b[39m._config.default_access_mode\n\u001b[32m    135\u001b[39m \u001b[38;5;28;01mtry\u001b[39;00m:\n\u001b[32m--> \u001b[39m\u001b[32m136\u001b[39m     \u001b[38;5;28;43msuper\u001b[39;49m\u001b[43m(\u001b[49m\u001b[43m)\u001b[49m\u001b[43m.\u001b[49m\u001b[43m_connect\u001b[49m\u001b[43m(\u001b[49m\n\u001b[32m    137\u001b[39m \u001b[43m        \u001b[49m\u001b[43maccess_mode\u001b[49m\u001b[43m,\u001b[49m\u001b[43m \u001b[49m\u001b[43mauth\u001b[49m\u001b[43m=\u001b[49m\u001b[38;5;28;43mself\u001b[39;49m\u001b[43m.\u001b[49m\u001b[43m_config\u001b[49m\u001b[43m.\u001b[49m\u001b[43mauth\u001b[49m\u001b[43m,\u001b[49m\u001b[43m \u001b[49m\u001b[43m*\u001b[49m\u001b[43m*\u001b[49m\u001b[43macquire_kwargs\u001b[49m\n\u001b[32m    138\u001b[39m \u001b[43m    \u001b[49m\u001b[43m)\u001b[49m\n\u001b[32m    139\u001b[39m \u001b[38;5;28;01mexcept\u001b[39;00m asyncio.CancelledError:\n\u001b[32m    140\u001b[39m     \u001b[38;5;28mself\u001b[39m._handle_cancellation(message=\u001b[33m\"\u001b[39m\u001b[33m_connect\u001b[39m\u001b[33m\"\u001b[39m)\n",
      "\u001b[36mFile \u001b[39m\u001b[32m~/pyenv/lib/python3.12/site-packages/neo4j/_sync/work/workspace.py:199\u001b[39m, in \u001b[36mWorkspace._connect\u001b[39m\u001b[34m(self, access_mode, auth, **acquire_kwargs)\u001b[39m\n\u001b[32m    189\u001b[39m acquire_kwargs_ = {\n\u001b[32m    190\u001b[39m     \u001b[33m\"\u001b[39m\u001b[33maccess_mode\u001b[39m\u001b[33m\"\u001b[39m: access_mode,\n\u001b[32m    191\u001b[39m     \u001b[33m\"\u001b[39m\u001b[33mtimeout\u001b[39m\u001b[33m\"\u001b[39m: acquisition_timeout,\n\u001b[32m   (...)\u001b[39m\u001b[32m    196\u001b[39m     \u001b[33m\"\u001b[39m\u001b[33mdatabase_callback\u001b[39m\u001b[33m\"\u001b[39m: \u001b[38;5;28mself\u001b[39m._make_db_resolution_callback(),\n\u001b[32m    197\u001b[39m }\n\u001b[32m    198\u001b[39m acquire_kwargs_.update(acquire_kwargs)\n\u001b[32m--> \u001b[39m\u001b[32m199\u001b[39m \u001b[38;5;28mself\u001b[39m._connection = \u001b[38;5;28;43mself\u001b[39;49m\u001b[43m.\u001b[49m\u001b[43m_pool\u001b[49m\u001b[43m.\u001b[49m\u001b[43macquire\u001b[49m\u001b[43m(\u001b[49m\u001b[43m*\u001b[49m\u001b[43m*\u001b[49m\u001b[43macquire_kwargs_\u001b[49m\u001b[43m)\u001b[49m\n\u001b[32m    200\u001b[39m \u001b[38;5;28;01mif\u001b[39;00m (\n\u001b[32m    201\u001b[39m     target_db.guessed\n\u001b[32m    202\u001b[39m     \u001b[38;5;129;01mand\u001b[39;00m \u001b[38;5;129;01mnot\u001b[39;00m \u001b[38;5;28mself\u001b[39m._pinned_database\n\u001b[32m   (...)\u001b[39m\u001b[32m    206\u001b[39m     \u001b[38;5;66;03m# support SSR.\u001b[39;00m\n\u001b[32m    207\u001b[39m     \u001b[38;5;66;03m# => we need to fall back to explicit home database resolution\u001b[39;00m\n\u001b[32m    208\u001b[39m     log.debug(\n\u001b[32m    209\u001b[39m         \u001b[33m\"\u001b[39m\u001b[33m[#0000]  _: <WORKSPACE> detected ssr support race; \u001b[39m\u001b[33m\"\u001b[39m\n\u001b[32m    210\u001b[39m         \u001b[33m\"\u001b[39m\u001b[33mfalling back to explicit home database resolution\u001b[39m\u001b[33m\"\u001b[39m,\n\u001b[32m    211\u001b[39m     )\n",
      "\u001b[36mFile \u001b[39m\u001b[32m~/pyenv/lib/python3.12/site-packages/neo4j/_sync/io/_pool.py:662\u001b[39m, in \u001b[36mBoltPool.acquire\u001b[39m\u001b[34m(self, access_mode, timeout, database, bookmarks, auth, liveness_check_timeout, database_callback)\u001b[39m\n\u001b[32m    655\u001b[39m log.debug(\n\u001b[32m    656\u001b[39m     \u001b[33m\"\u001b[39m\u001b[33m[#0000]  _: <POOL> acquire direct connection, \u001b[39m\u001b[33m\"\u001b[39m\n\u001b[32m    657\u001b[39m     \u001b[33m\"\u001b[39m\u001b[33maccess_mode=\u001b[39m\u001b[38;5;132;01m%r\u001b[39;00m\u001b[33m, database=\u001b[39m\u001b[38;5;132;01m%r\u001b[39;00m\u001b[33m\"\u001b[39m,\n\u001b[32m    658\u001b[39m     access_mode,\n\u001b[32m    659\u001b[39m     database,\n\u001b[32m    660\u001b[39m )\n\u001b[32m    661\u001b[39m deadline = Deadline.from_timeout_or_deadline(timeout)\n\u001b[32m--> \u001b[39m\u001b[32m662\u001b[39m \u001b[38;5;28;01mreturn\u001b[39;00m \u001b[38;5;28;43mself\u001b[39;49m\u001b[43m.\u001b[49m\u001b[43m_acquire\u001b[49m\u001b[43m(\u001b[49m\n\u001b[32m    663\u001b[39m \u001b[43m    \u001b[49m\u001b[38;5;28;43mself\u001b[39;49m\u001b[43m.\u001b[49m\u001b[43maddress\u001b[49m\u001b[43m,\u001b[49m\u001b[43m \u001b[49m\u001b[43mauth\u001b[49m\u001b[43m,\u001b[49m\u001b[43m \u001b[49m\u001b[43mdeadline\u001b[49m\u001b[43m,\u001b[49m\u001b[43m \u001b[49m\u001b[43mliveness_check_timeout\u001b[49m\n\u001b[32m    664\u001b[39m \u001b[43m\u001b[49m\u001b[43m)\u001b[49m\n",
      "\u001b[36mFile \u001b[39m\u001b[32m~/pyenv/lib/python3.12/site-packages/neo4j/_sync/io/_pool.py:408\u001b[39m, in \u001b[36mIOPool._acquire\u001b[39m\u001b[34m(self, address, auth, deadline, liveness_check_timeout)\u001b[39m\n\u001b[32m    403\u001b[39m             \u001b[38;5;28;01mraise\u001b[39;00m ClientError(\n\u001b[32m    404\u001b[39m                 \u001b[33m\"\u001b[39m\u001b[33mfailed to obtain a connection from the pool within \u001b[39m\u001b[33m\"\u001b[39m\n\u001b[32m    405\u001b[39m                 \u001b[33mf\u001b[39m\u001b[33m\"\u001b[39m\u001b[38;5;132;01m{\u001b[39;00mdeadline.original_timeout\u001b[38;5;132;01m!r}\u001b[39;00m\u001b[33ms (timeout)\u001b[39m\u001b[33m\"\u001b[39m\n\u001b[32m    406\u001b[39m             )\n\u001b[32m    407\u001b[39m log.debug(\u001b[33m\"\u001b[39m\u001b[33m[#0000]  _: <POOL> trying to hand out new connection\u001b[39m\u001b[33m\"\u001b[39m)\n\u001b[32m--> \u001b[39m\u001b[32m408\u001b[39m \u001b[38;5;28;01mreturn\u001b[39;00m \u001b[43mconnection_creator\u001b[49m\u001b[43m(\u001b[49m\u001b[43m)\u001b[49m\n",
      "\u001b[36mFile \u001b[39m\u001b[32m~/pyenv/lib/python3.12/site-packages/neo4j/_sync/io/_pool.py:230\u001b[39m, in \u001b[36mIOPool._acquire_new_later.<locals>.connection_creator\u001b[39m\u001b[34m()\u001b[39m\n\u001b[32m    228\u001b[39m \u001b[38;5;28;01mtry\u001b[39;00m:\n\u001b[32m    229\u001b[39m     \u001b[38;5;28;01mtry\u001b[39;00m:\n\u001b[32m--> \u001b[39m\u001b[32m230\u001b[39m         connection = \u001b[38;5;28;43mself\u001b[39;49m\u001b[43m.\u001b[49m\u001b[43mopener\u001b[49m\u001b[43m(\u001b[49m\n\u001b[32m    231\u001b[39m \u001b[43m            \u001b[49m\u001b[43maddress\u001b[49m\u001b[43m,\u001b[49m\u001b[43m \u001b[49m\u001b[43mauth\u001b[49m\u001b[43m \u001b[49m\u001b[38;5;129;43;01mor\u001b[39;49;00m\u001b[43m \u001b[49m\u001b[38;5;28;43mself\u001b[39;49m\u001b[43m.\u001b[49m\u001b[43mpool_config\u001b[49m\u001b[43m.\u001b[49m\u001b[43mauth\u001b[49m\u001b[43m,\u001b[49m\u001b[43m \u001b[49m\u001b[43mdeadline\u001b[49m\n\u001b[32m    232\u001b[39m \u001b[43m        \u001b[49m\u001b[43m)\u001b[49m\n\u001b[32m    233\u001b[39m     \u001b[38;5;28;01mexcept\u001b[39;00m ServiceUnavailable:\n\u001b[32m    234\u001b[39m         \u001b[38;5;28mself\u001b[39m.deactivate(address)\n",
      "\u001b[36mFile \u001b[39m\u001b[32m~/pyenv/lib/python3.12/site-packages/neo4j/_sync/io/_pool.py:624\u001b[39m, in \u001b[36mBoltPool.open.<locals>.opener\u001b[39m\u001b[34m(addr, auth_manager, deadline)\u001b[39m\n\u001b[32m    623\u001b[39m \u001b[38;5;28;01mdef\u001b[39;00m\u001b[38;5;250m \u001b[39m\u001b[34mopener\u001b[39m(addr, auth_manager, deadline):\n\u001b[32m--> \u001b[39m\u001b[32m624\u001b[39m     \u001b[38;5;28;01mreturn\u001b[39;00m \u001b[43mBolt\u001b[49m\u001b[43m.\u001b[49m\u001b[43mopen\u001b[49m\u001b[43m(\u001b[49m\n\u001b[32m    625\u001b[39m \u001b[43m        \u001b[49m\u001b[43maddr\u001b[49m\u001b[43m,\u001b[49m\n\u001b[32m    626\u001b[39m \u001b[43m        \u001b[49m\u001b[43mauth_manager\u001b[49m\u001b[43m=\u001b[49m\u001b[43mauth_manager\u001b[49m\u001b[43m,\u001b[49m\n\u001b[32m    627\u001b[39m \u001b[43m        \u001b[49m\u001b[43mdeadline\u001b[49m\u001b[43m=\u001b[49m\u001b[43mdeadline\u001b[49m\u001b[43m,\u001b[49m\n\u001b[32m    628\u001b[39m \u001b[43m        \u001b[49m\u001b[43mrouting_context\u001b[49m\u001b[43m=\u001b[49m\u001b[38;5;28;43;01mNone\u001b[39;49;00m\u001b[43m,\u001b[49m\n\u001b[32m    629\u001b[39m \u001b[43m        \u001b[49m\u001b[43mpool_config\u001b[49m\u001b[43m=\u001b[49m\u001b[43mpool_config\u001b[49m\u001b[43m,\u001b[49m\n\u001b[32m    630\u001b[39m \u001b[43m    \u001b[49m\u001b[43m)\u001b[49m\n",
      "\u001b[36mFile \u001b[39m\u001b[32m~/pyenv/lib/python3.12/site-packages/neo4j/_sync/io/_bolt.py:369\u001b[39m, in \u001b[36mBolt.open\u001b[39m\u001b[34m(cls, address, auth_manager, deadline, routing_context, pool_config)\u001b[39m\n\u001b[32m    366\u001b[39m \u001b[38;5;28;01mif\u001b[39;00m deadline \u001b[38;5;129;01mis\u001b[39;00m \u001b[38;5;28;01mNone\u001b[39;00m:\n\u001b[32m    367\u001b[39m     deadline = Deadline(\u001b[38;5;28;01mNone\u001b[39;00m)\n\u001b[32m--> \u001b[39m\u001b[32m369\u001b[39m s, protocol_version, handshake, data = \u001b[43mBoltSocket\u001b[49m\u001b[43m.\u001b[49m\u001b[43mconnect\u001b[49m\u001b[43m(\u001b[49m\n\u001b[32m    370\u001b[39m \u001b[43m    \u001b[49m\u001b[43maddress\u001b[49m\u001b[43m,\u001b[49m\n\u001b[32m    371\u001b[39m \u001b[43m    \u001b[49m\u001b[43mtcp_timeout\u001b[49m\u001b[43m=\u001b[49m\u001b[43mpool_config\u001b[49m\u001b[43m.\u001b[49m\u001b[43mconnection_timeout\u001b[49m\u001b[43m,\u001b[49m\n\u001b[32m    372\u001b[39m \u001b[43m    \u001b[49m\u001b[43mdeadline\u001b[49m\u001b[43m=\u001b[49m\u001b[43mdeadline\u001b[49m\u001b[43m,\u001b[49m\n\u001b[32m    373\u001b[39m \u001b[43m    \u001b[49m\u001b[43mcustom_resolver\u001b[49m\u001b[43m=\u001b[49m\u001b[43mpool_config\u001b[49m\u001b[43m.\u001b[49m\u001b[43mresolver\u001b[49m\u001b[43m,\u001b[49m\n\u001b[32m    374\u001b[39m \u001b[43m    \u001b[49m\u001b[43mssl_context\u001b[49m\u001b[43m=\u001b[49m\u001b[43mpool_config\u001b[49m\u001b[43m.\u001b[49m\u001b[43mget_ssl_context\u001b[49m\u001b[43m(\u001b[49m\u001b[43m)\u001b[49m\u001b[43m,\u001b[49m\n\u001b[32m    375\u001b[39m \u001b[43m    \u001b[49m\u001b[43mkeep_alive\u001b[49m\u001b[43m=\u001b[49m\u001b[43mpool_config\u001b[49m\u001b[43m.\u001b[49m\u001b[43mkeep_alive\u001b[49m\u001b[43m,\u001b[49m\n\u001b[32m    376\u001b[39m \u001b[43m\u001b[49m\u001b[43m)\u001b[49m\n\u001b[32m    378\u001b[39m pool_config.protocol_version = protocol_version\n\u001b[32m    379\u001b[39m protocol_handlers = Bolt.protocol_handlers\n",
      "\u001b[36mFile \u001b[39m\u001b[32m~/pyenv/lib/python3.12/site-packages/neo4j/_sync/io/_bolt_socket.py:376\u001b[39m, in \u001b[36mBoltSocket.connect\u001b[39m\u001b[34m(cls, address, tcp_timeout, deadline, custom_resolver, ssl_context, keep_alive)\u001b[39m\n\u001b[32m    374\u001b[39m \u001b[38;5;28;01melse\u001b[39;00m:\n\u001b[32m    375\u001b[39m     error_strs = \u001b[33m\"\u001b[39m\u001b[38;5;130;01m\\n\u001b[39;00m\u001b[33m\"\u001b[39m.join(\u001b[38;5;28mmap\u001b[39m(\u001b[38;5;28mstr\u001b[39m, errors))\n\u001b[32m--> \u001b[39m\u001b[32m376\u001b[39m     \u001b[38;5;28;01mraise\u001b[39;00m ServiceUnavailable(\n\u001b[32m    377\u001b[39m         \u001b[33mf\u001b[39m\u001b[33m\"\u001b[39m\u001b[33mCouldn\u001b[39m\u001b[33m'\u001b[39m\u001b[33mt connect to \u001b[39m\u001b[38;5;132;01m{\u001b[39;00maddress\u001b[38;5;132;01m}\u001b[39;00m\u001b[33m (resolved to \u001b[39m\u001b[38;5;132;01m{\u001b[39;00maddress_strs\u001b[38;5;132;01m}\u001b[39;00m\u001b[33m):\u001b[39m\u001b[33m\"\u001b[39m\n\u001b[32m    378\u001b[39m         \u001b[33mf\u001b[39m\u001b[33m\"\u001b[39m\u001b[38;5;130;01m\\n\u001b[39;00m\u001b[38;5;132;01m{\u001b[39;00merror_strs\u001b[38;5;132;01m}\u001b[39;00m\u001b[33m\"\u001b[39m\n\u001b[32m    379\u001b[39m     ) \u001b[38;5;28;01mfrom\u001b[39;00m\u001b[38;5;250m \u001b[39m\u001b[34;01merrors\u001b[39;00m[\u001b[32m0\u001b[39m]\n",
      "\u001b[31mServiceUnavailable\u001b[39m: Couldn't connect to localhost:7687 (resolved to ('127.0.0.1:7687', '[::1]:7687')):\nFailed to establish connection to ResolvedIPv4Address(('127.0.0.1', 7687)) (reason [Errno 111] Connection refused)\nFailed to establish connection to ResolvedIPv6Address(('::1', 7687, 0, 0)) (reason [Errno 99] Cannot assign requested address)"
     ]
    }
   ],
   "source": [
    "from neo4j import GraphDatabase\n",
    "\n",
    "# ---------- 连接数据库 ----------\n",
    "NEO4J_URI      = \"bolt://localhost:7687\"\n",
    "NEO4J_USER     = \"neo4j\"\n",
    "NEO4J_PASSWORD = \"password\"           # 初次启动设定的密码\n",
    "\n",
    "driver = GraphDatabase.driver(\n",
    "    NEO4J_URI, auth=(NEO4J_USER, NEO4J_PASSWORD)\n",
    ")\n",
    "\n",
    "# ---------- 可选：创建唯一约束 ----------\n",
    "# 避免重复的 Drug 节点 & 重复的关系\n",
    "with driver.session() as session:\n",
    "    session.run(\"CREATE CONSTRAINT IF NOT EXISTS \"\n",
    "                \"FOR (d:Drug) REQUIRE d.name IS UNIQUE\")\n",
    "    session.run(\"CREATE CONSTRAINT IF NOT EXISTS \"\n",
    "                \"FOR ()-[r:INTERACTS_WITH]-() \"\n",
    "                \"REQUIRE (r.source, r.target) IS UNIQUE\")\n",
    "\n",
    "# ---------- 批量写入 ----------\n",
    "query = \"\"\"\n",
    "UNWIND $pairs AS p\n",
    "MERGE (a:Drug {name: p.source})\n",
    "MERGE (b:Drug {name: p.target})\n",
    "WITH a, b, p,\n",
    "     (CASE WHEN p.source < p.target THEN [p.source, p.target]\n",
    "           ELSE [p.target, p.source] END) AS key\n",
    "MERGE (a)-[r:INTERACTS_WITH {source: key[0], target: key[1]}]->(b)\n",
    "ON CREATE SET r.description = p.description\n",
    "ON MATCH  SET r.description =\n",
    "    CASE WHEN NOT p.description IN split(r.description, '\\\\n')\n",
    "         THEN r.description + '\\\\n' + p.description\n",
    "         ELSE r.description END\n",
    "\"\"\"\n",
    "\n",
    "with driver.session() as session:\n",
    "    session.write_transaction(lambda tx: tx.run(query, pairs=drug_pairs))\n",
    "\n",
    "driver.close()"
   ]
  },
  {
   "cell_type": "code",
   "execution_count": 14,
   "id": "df2a8d9c",
   "metadata": {},
   "outputs": [],
   "source": [
    "drug_pairs_list = list(drug_pairs_set)"
   ]
  },
  {
   "cell_type": "code",
   "execution_count": 15,
   "id": "8b5466a1",
   "metadata": {},
   "outputs": [
    {
     "data": {
      "text/plain": [
       "('Efonidipine', 'Sulfadiazine')"
      ]
     },
     "execution_count": 15,
     "metadata": {},
     "output_type": "execute_result"
    }
   ],
   "source": [
    "drug_pairs_list[0]"
   ]
  },
  {
   "cell_type": "code",
   "execution_count": 9,
   "id": "e7f63465-36de-4b2e-b9e0-262509e7fdf8",
   "metadata": {
    "tags": []
   },
   "outputs": [
    {
     "name": "stdout",
     "output_type": "stream",
     "text": [
      "{'description': 'Apixaban may increase the anticoagulant activities of Lepirudin.', 'id': '0', 'source': 'Lepirudin', 'target': 'Apixaban'}\n",
      "{'description': 'Dabigatran etexilate may increase the anticoagulant activities of Lepirudin.', 'id': '1', 'source': 'Lepirudin', 'target': 'Dabigatran etexilate'}\n",
      "{'description': 'The risk or severity of bleeding and hemorrhage can be increased when Dasatinib is combined with Lepirudin.', 'id': '2', 'source': 'Lepirudin', 'target': 'Dasatinib'}\n",
      "{'description': 'The risk or severity of gastrointestinal bleeding can be increased when Lepirudin is combined with Deferasirox.', 'id': '3', 'source': 'Lepirudin', 'target': 'Deferasirox'}\n",
      "{'description': 'The risk or severity of bleeding and bruising can be increased when Lepirudin is combined with Ursodeoxycholic acid.', 'id': '4', 'source': 'Lepirudin', 'target': 'Ursodeoxycholic acid'}\n",
      "{'description': 'The risk or severity of bleeding and bruising can be increased when Lepirudin is combined with Glycochenodeoxycholic Acid.', 'id': '5', 'source': 'Lepirudin', 'target': 'Glycochenodeoxycholic Acid'}\n",
      "{'description': 'The risk or severity of bleeding and bruising can be increased when Lepirudin is combined with Cholic Acid.', 'id': '6', 'source': 'Lepirudin', 'target': 'Cholic Acid'}\n",
      "{'description': 'The risk or severity of bleeding and bruising can be increased when Lepirudin is combined with Glycocholic acid.', 'id': '7', 'source': 'Lepirudin', 'target': 'Glycocholic acid'}\n",
      "{'description': 'The risk or severity of bleeding and bruising can be increased when Lepirudin is combined with Deoxycholic acid.', 'id': '8', 'source': 'Lepirudin', 'target': 'Deoxycholic acid'}\n",
      "{'description': 'The risk or severity of bleeding and bruising can be increased when Lepirudin is combined with Taurocholic acid.', 'id': '9', 'source': 'Lepirudin', 'target': 'Taurocholic acid'}\n"
     ]
    }
   ],
   "source": [
    "for i in data[\"links\"][:10]:\n",
    "    print(i)"
   ]
  },
  {
   "cell_type": "code",
   "execution_count": 10,
   "id": "6716737a-2ce6-4457-9033-d76eaf6a632d",
   "metadata": {
    "tags": []
   },
   "outputs": [
    {
     "name": "stdout",
     "output_type": "stream",
     "text": [
      "Created 450001 links, used 0.1029202938079834 seconds.\n"
     ]
    }
   ],
   "source": [
    "clean_data = {\n",
    "    \"nodes\": [],\n",
    "    \"links\": [],\n",
    "}\n",
    "\n",
    "def cleaning(raw_data):\n",
    "    start_time = time.time()\n",
    "    for i, node in enumerate(data['nodes']):\n",
    "        if node[\"label\"] not in filtered: continue\n",
    "        clean_data[\"nodes\"].append(node)\n",
    "    \n",
    "    for i, link in enumerate(data['links']):\n",
    "        if link[\"target\"] not in filtered or link[\"source\"] not in filtered: continue\n",
    "        clean_data[\"links\"].append(link)\n",
    "        \n",
    "        if i % 50000 == 0 and i != 0:\n",
    "            current_time = time.time()\n",
    "            print(f\"Created {i + 1} links, used {current_time - start_time} seconds.\")\n",
    "\n",
    "cleaning(data)"
   ]
  },
  {
   "cell_type": "code",
   "execution_count": 11,
   "id": "3fcadbad-7d88-465f-a575-04aef2969e42",
   "metadata": {
    "tags": []
   },
   "outputs": [
    {
     "data": {
      "text/plain": [
       "(16582, 2839610, 471, 74784)"
      ]
     },
     "execution_count": 11,
     "metadata": {},
     "output_type": "execute_result"
    }
   ],
   "source": [
    "len(data[\"nodes\"]), len(data[\"links\"]), len(clean_data[\"nodes\"]), len(clean_data[\"links\"])"
   ]
  },
  {
   "cell_type": "code",
   "execution_count": 12,
   "id": "aed03a11-d1d7-4fc2-b18b-6ad0f37040c0",
   "metadata": {
    "tags": []
   },
   "outputs": [],
   "source": [
    "# Function to create nodes and relationships\n",
    "def create_graph(tx, data):\n",
    "    start_time = time.time()\n",
    "    for i, node in enumerate(data['nodes']):\n",
    "        if node[\"label\"] not in filtered: continue\n",
    "        \n",
    "        tx.run(\"CREATE (n:Node {id: $id, label: $label})\", id=node['id'], label=node['label'])\n",
    "    \n",
    "    for i, link in enumerate(data['links']):\n",
    "        if link[\"target\"] not in filtered or link[\"source\"] not in filtered: continue\n",
    "        \n",
    "        tx.run(\"\"\"\n",
    "        MATCH (a:Node {id: $source}), (b:Node {id: $target})\n",
    "        CREATE (a)-[:RELATIONSHIP {description: $description}]->(b)\n",
    "        \"\"\", source=link['source'], target=link['target'], description=link['description'])\n",
    "        \n",
    "        if i % 1000 == 0 and i != 0:\n",
    "            current_time = time.time()\n",
    "            print(f\"Created {i + 1} links, used {current_time - start_time} seconds.\")"
   ]
  },
  {
   "cell_type": "code",
   "execution_count": 13,
   "id": "1274007f-a107-4b9e-a5df-0bb57cc6263f",
   "metadata": {
    "tags": []
   },
   "outputs": [
    {
     "name": "stdout",
     "output_type": "stream",
     "text": [
      "Created 1001 links, used 47.253438234329224 seconds.\n",
      "Created 2001 links, used 78.05210161209106 seconds.\n",
      "Created 3001 links, used 109.42906284332275 seconds.\n",
      "Created 4001 links, used 139.51378798484802 seconds.\n",
      "Created 5001 links, used 170.41807389259338 seconds.\n",
      "Created 6001 links, used 200.89821529388428 seconds.\n",
      "Created 7001 links, used 231.37676239013672 seconds.\n",
      "Created 8001 links, used 261.3435318470001 seconds.\n",
      "Created 9001 links, used 291.7904486656189 seconds.\n",
      "Created 10001 links, used 321.69237422943115 seconds.\n",
      "Created 11001 links, used 351.78085494041443 seconds.\n",
      "Created 12001 links, used 382.70699191093445 seconds.\n",
      "Created 13001 links, used 412.89570593833923 seconds.\n",
      "Created 14001 links, used 443.2705523967743 seconds.\n",
      "Created 15001 links, used 473.3867337703705 seconds.\n",
      "Created 16001 links, used 504.01982378959656 seconds.\n",
      "Created 17001 links, used 534.0837721824646 seconds.\n",
      "Created 18001 links, used 564.3774394989014 seconds.\n",
      "Created 19001 links, used 594.6533403396606 seconds.\n",
      "Created 20001 links, used 625.7893550395966 seconds.\n",
      "Created 21001 links, used 656.5094139575958 seconds.\n",
      "Created 22001 links, used 686.275806427002 seconds.\n",
      "Created 23001 links, used 716.5304324626923 seconds.\n",
      "Created 24001 links, used 746.5673286914825 seconds.\n",
      "Created 25001 links, used 776.8929877281189 seconds.\n",
      "Created 26001 links, used 808.1447148323059 seconds.\n",
      "Created 27001 links, used 838.1971561908722 seconds.\n",
      "Created 28001 links, used 868.5274624824524 seconds.\n",
      "Created 29001 links, used 898.5097455978394 seconds.\n",
      "Created 30001 links, used 928.4484729766846 seconds.\n",
      "Created 31001 links, used 958.7365343570709 seconds.\n",
      "Created 32001 links, used 988.788978099823 seconds.\n",
      "Created 33001 links, used 1018.8748068809509 seconds.\n",
      "Created 34001 links, used 1050.1257021427155 seconds.\n",
      "Created 35001 links, used 1080.525532245636 seconds.\n",
      "Created 36001 links, used 1110.6045808792114 seconds.\n",
      "Created 37001 links, used 1140.9671669006348 seconds.\n",
      "Created 38001 links, used 1171.2222998142242 seconds.\n",
      "Created 39001 links, used 1201.3155643939972 seconds.\n",
      "Created 40001 links, used 1231.6211776733398 seconds.\n",
      "Created 41001 links, used 1261.8016412258148 seconds.\n",
      "Created 42001 links, used 1291.8711848258972 seconds.\n",
      "Created 43001 links, used 1323.8336505889893 seconds.\n",
      "Created 44001 links, used 1354.1292028427124 seconds.\n",
      "Created 45001 links, used 1384.1767885684967 seconds.\n",
      "Created 46001 links, used 1414.2575590610504 seconds.\n",
      "Created 47001 links, used 1444.3197236061096 seconds.\n",
      "Created 48001 links, used 1474.8489973545074 seconds.\n",
      "Created 49001 links, used 1504.9378869533539 seconds.\n",
      "Created 50001 links, used 1534.771478176117 seconds.\n",
      "Created 51001 links, used 1565.2120106220245 seconds.\n",
      "Created 52001 links, used 1595.2251873016357 seconds.\n",
      "Created 53001 links, used 1624.9633786678314 seconds.\n",
      "Created 54001 links, used 1656.7858095169067 seconds.\n",
      "Created 55001 links, used 1687.156821489334 seconds.\n",
      "Created 56001 links, used 1717.5200879573822 seconds.\n",
      "Created 57001 links, used 1748.0164160728455 seconds.\n",
      "Created 58001 links, used 1778.4359498023987 seconds.\n",
      "Created 59001 links, used 1808.9919543266296 seconds.\n",
      "Created 60001 links, used 1836.021656513214 seconds.\n",
      "Created 61001 links, used 1860.8074147701263 seconds.\n",
      "Created 62001 links, used 1885.3899126052856 seconds.\n",
      "Created 63001 links, used 1908.9521169662476 seconds.\n",
      "Created 64001 links, used 1933.6283926963806 seconds.\n",
      "Created 65001 links, used 1957.108346939087 seconds.\n",
      "Created 66001 links, used 1980.4571385383606 seconds.\n",
      "Created 67001 links, used 2004.9927027225494 seconds.\n",
      "Created 68001 links, used 2031.7959997653961 seconds.\n",
      "Created 69001 links, used 2056.343037366867 seconds.\n",
      "Created 70001 links, used 2080.131504058838 seconds.\n",
      "Created 71001 links, used 2105.239135503769 seconds.\n",
      "Created 72001 links, used 2130.2158694267273 seconds.\n",
      "Created 73001 links, used 2154.893366098404 seconds.\n",
      "Created 74001 links, used 2179.7321379184723 seconds.\n"
     ]
    }
   ],
   "source": [
    "# Insert data into Neo4j.\n",
    "with driver.session() as session:\n",
    "    session.execute_write(create_graph, clean_data)\n",
    "\n",
    "driver.close()"
   ]
  },
  {
   "cell_type": "code",
   "execution_count": 15,
   "id": "93f096f5-dcce-4849-95ba-04df0f39b701",
   "metadata": {
    "tags": []
   },
   "outputs": [
    {
     "name": "stdout",
     "output_type": "stream",
     "text": [
      "<Record n=<Node element_id='4:1f17da69-1a9c-425d-a392-112358e1506f:0' labels=frozenset({'Node'}) properties={'id': 'Lepirudin', 'label': 'Lepirudin'}> r=<Relationship element_id='5:1f17da69-1a9c-425d-a392-112358e1506f:0' nodes=(<Node element_id='4:1f17da69-1a9c-425d-a392-112358e1506f:0' labels=frozenset({'Node'}) properties={'id': 'Lepirudin', 'label': 'Lepirudin'}>, <Node element_id='4:1f17da69-1a9c-425d-a392-112358e1506f:1' labels=frozenset({'Node'}) properties={'id': 'Apixaban', 'label': 'Apixaban'}>) type='RELATIONSHIP' properties={'description': 'Apixaban may increase the anticoagulant activities of Lepirudin.'}> m=<Node element_id='4:1f17da69-1a9c-425d-a392-112358e1506f:1' labels=frozenset({'Node'}) properties={'id': 'Apixaban', 'label': 'Apixaban'}>>\n"
     ]
    }
   ],
   "source": []
  }
 ],
 "metadata": {
  "kernelspec": {
   "display_name": "pyenv",
   "language": "python",
   "name": "python3"
  },
  "language_info": {
   "codemirror_mode": {
    "name": "ipython",
    "version": 3
   },
   "file_extension": ".py",
   "mimetype": "text/x-python",
   "name": "python",
   "nbconvert_exporter": "python",
   "pygments_lexer": "ipython3",
   "version": "3.12.3"
  }
 },
 "nbformat": 4,
 "nbformat_minor": 5
}
